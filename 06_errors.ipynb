{
 "cells": [
  {
   "cell_type": "markdown",
   "id": "d67f0615-5843-451f-97ec-947fa873d70b",
   "metadata": {},
   "source": [
    "# Error"
   ]
  },
  {
   "cell_type": "markdown",
   "id": "0af8e4d5-2ea3-4437-952a-ca1a7e33187e",
   "metadata": {
    "editable": true,
    "slideshow": {
     "slide_type": ""
    },
    "tags": []
   },
   "source": [
    "## Syntax error (문법 오류)"
   ]
  },
  {
   "cell_type": "code",
   "execution_count": 1,
   "id": "ef55e23b-2ed2-4585-aa5e-82c02b035f49",
   "metadata": {},
   "outputs": [
    {
     "ename": "SyntaxError",
     "evalue": "expected ':' (3448656250.py, line 3)",
     "output_type": "error",
     "traceback": [
      "\u001b[0;36m  Cell \u001b[0;32mIn[1], line 3\u001b[0;36m\u001b[0m\n\u001b[0;31m    else\u001b[0m\n\u001b[0m        ^\u001b[0m\n\u001b[0;31mSyntaxError\u001b[0m\u001b[0;31m:\u001b[0m expected ':'\n"
     ]
    }
   ],
   "source": [
    "if True:\n",
    "    pass\n",
    "else"
   ]
  },
  {
   "cell_type": "code",
   "execution_count": null,
   "id": "27c73449-31c5-4fc6-a902-c1bb8c0709b4",
   "metadata": {},
   "outputs": [],
   "source": [
    "prin('hello)"
   ]
  },
  {
   "cell_type": "code",
   "execution_count": null,
   "id": "534390a1-7e00-44de-80c7-b243dc625872",
   "metadata": {},
   "outputs": [],
   "source": [
    "if True print('hello')"
   ]
  },
  {
   "cell_type": "code",
   "execution_count": null,
   "id": "a538684a-c1a0-4ac5-bc0b-bd73bee6f8b8",
   "metadata": {},
   "outputs": [],
   "source": [
    "print('hello'"
   ]
  },
  {
   "cell_type": "markdown",
   "id": "3a044bcb-d372-4b3e-bcd8-b5dc47795973",
   "metadata": {},
   "source": [
    "## exception"
   ]
  },
  {
   "cell_type": "code",
   "execution_count": null,
   "id": "d94dbbc4-6158-4ce8-b2d6-a94fbbd9cb32",
   "metadata": {},
   "outputs": [],
   "source": [
    "print(5/0)"
   ]
  },
  {
   "cell_type": "code",
   "execution_count": null,
   "id": "da9fc5d4-062c-49ed-9363-a9f05a1973cb",
   "metadata": {},
   "outputs": [],
   "source": [
    "print(hello)"
   ]
  },
  {
   "cell_type": "code",
   "execution_count": null,
   "id": "d447b96e-0ee1-4dda-8ba2-f5602484fa0d",
   "metadata": {},
   "outputs": [],
   "source": [
    "1 + '1'"
   ]
  },
  {
   "cell_type": "code",
   "execution_count": null,
   "id": "3c62313f-a389-4302-be36-eb1d6672eeea",
   "metadata": {},
   "outputs": [],
   "source": [
    "'1' + 1"
   ]
  },
  {
   "cell_type": "code",
   "execution_count": null,
   "id": "42b8c7f2-1c58-40af-ac1c-da62745697e9",
   "metadata": {},
   "outputs": [],
   "source": [
    "import random\n",
    "random.sample([1, 2, 3, 4, 5])"
   ]
  },
  {
   "cell_type": "code",
   "execution_count": null,
   "id": "234178d1-0204-485c-9521-f9c05f67b276",
   "metadata": {},
   "outputs": [],
   "source": [
    "random.sample([1, 2, 3], 1, 2, 3, 4, 5, 6, 7)"
   ]
  },
  {
   "cell_type": "code",
   "execution_count": null,
   "id": "faad21fd-3401-4b8c-9dcf-28d0b2a5a3e4",
   "metadata": {},
   "outputs": [],
   "source": [
    "int('4.5')"
   ]
  },
  {
   "cell_type": "code",
   "execution_count": null,
   "id": "fe0e70db-5128-4971-9092-e0f0c72a69ca",
   "metadata": {},
   "outputs": [],
   "source": [
    "numbers = [1, 2, 3]\n",
    "numbers.index(100)"
   ]
  },
  {
   "cell_type": "code",
   "execution_count": null,
   "id": "a0d85e9d-7222-4888-bf5d-4d64e6fe384d",
   "metadata": {},
   "outputs": [],
   "source": [
    "numbers[100]"
   ]
  },
  {
   "cell_type": "code",
   "execution_count": null,
   "id": "9660c569-50e0-4e5c-ab86-3302c76af808",
   "metadata": {},
   "outputs": [],
   "source": [
    "my_dict = {\n",
    "    'apple': '사과',\n",
    "    'banana': '바나나',\n",
    "}\n"
   ]
  },
  {
   "cell_type": "code",
   "execution_count": null,
   "id": "9726541e-9d02-435a-a1c5-a461efd90997",
   "metadata": {
    "editable": true,
    "slideshow": {
     "slide_type": ""
    },
    "tags": []
   },
   "outputs": [],
   "source": [
    "my_dict['melon']"
   ]
  },
  {
   "cell_type": "code",
   "execution_count": null,
   "id": "6ef5436a-cc73-4e46-a24b-b33974faf0f7",
   "metadata": {},
   "outputs": [],
   "source": [
    "import pandas"
   ]
  },
  {
   "cell_type": "code",
   "execution_count": null,
   "id": "f142a20c-95c3-4c17-8e70-d19c04debdd3",
   "metadata": {},
   "outputs": [],
   "source": [
    "import request"
   ]
  },
  {
   "cell_type": "markdown",
   "id": "eb577931-1c2b-4569-932c-fb590ad7260e",
   "metadata": {},
   "source": [
    "### 예외처리\n",
    "\n",
    "```python\n",
    "try:\n",
    "    code\n",
    "except: execption:\n",
    "    code\n",
    "```"
   ]
  },
  {
   "cell_type": "code",
   "execution_count": 8,
   "id": "e5aac933-7497-4bb9-9166-21aae48fc7ab",
   "metadata": {},
   "outputs": [
    {
     "name": "stdin",
     "output_type": "stream",
     "text": [
      "숫자를 입력해주세요 ㄴ\n"
     ]
    },
    {
     "name": "stdout",
     "output_type": "stream",
     "text": [
      "숫자를 입력해달라고!!!\n"
     ]
    }
   ],
   "source": [
    "try:\n",
    "    number = int(input('숫자를 입력해주세요'))\n",
    "    print(f'입력하신 {number}의 세제곱은 {number**3}입니다.')\n",
    "\n",
    "except:\n",
    "    print('숫자를 입력해달라고!!!')"
   ]
  },
  {
   "cell_type": "code",
   "execution_count": 7,
   "id": "c9fe08f8-421d-42b6-a134-4321629c3ec0",
   "metadata": {},
   "outputs": [
    {
     "name": "stdin",
     "output_type": "stream",
     "text": [
      "100을 무엇으로 나누겠습니까? ㅣ\n"
     ]
    },
    {
     "name": "stdout",
     "output_type": "stream",
     "text": [
      "입력한 데이터는 숫자가 아닙니다.\n"
     ]
    }
   ],
   "source": [
    "try:\n",
    "    num = int(input('100을 무엇으로 나누겠습니까?'))\n",
    "    print(f'100을 {num}으로 나눈 결과는 {100/num}')\n",
    "except ValueError:\n",
    "    print('입력한 데이터는 숫자가 아닙니다.')\n",
    "except ZeroDivisionError:\n",
    "    print('모든수는 0으로 나눌 수 없습니다.')"
   ]
  },
  {
   "cell_type": "code",
   "execution_count": 15,
   "id": "f1c88d5e-cb4a-4190-9d54-83bffba28bf9",
   "metadata": {},
   "outputs": [
    {
     "name": "stdout",
     "output_type": "stream",
     "text": [
      "여기는 else입니다.\n"
     ]
    }
   ],
   "source": [
    "try:  #잘안됨!\n",
    "    numbers = [1, 2, 3]\n",
    "    numbers[1]\n",
    "\n",
    "except: \n",
    "    print('오류입니다')\n",
    "else:\n",
    "    print('여기는 else입니다.')"
   ]
  },
  {
   "cell_type": "code",
   "execution_count": 16,
   "id": "3cc07b9c-f4c4-477a-a84d-9549e7c10334",
   "metadata": {},
   "outputs": [
    {
     "name": "stdout",
     "output_type": "stream",
     "text": [
      "여기는 else입니다.\n"
     ]
    }
   ],
   "source": [
    "try:  #잘안됨! \n",
    "    numbers = [1, 2, 3]\n",
    "    numbers[1]\n",
    "\n",
    "except: \n",
    "    print('오류입니다')\n",
    "\n",
    "finally:\n",
    "    print('여기는 else입니다.')"
   ]
  },
  {
   "cell_type": "code",
   "execution_count": 22,
   "id": "b63377bc-b21c-40e5-bbf8-3e15ac55a2c8",
   "metadata": {},
   "outputs": [
    {
     "data": {
      "text/plain": [
       "0.5"
      ]
     },
     "execution_count": 22,
     "metadata": {},
     "output_type": "execute_result"
    }
   ],
   "source": [
    "def my_div(a,b):\n",
    "    try:\n",
    "        return a/b\n",
    "    except (ValueError, TypeError):\n",
    "        return '숫자를 넣어주세요'\n",
    "\n",
    "    except zeroDivisionError:\n",
    "        return '0으로 나눌 수  없습니다.'\n",
    "\n",
    "my_div(1, 2)"
   ]
  },
  {
   "cell_type": "code",
   "execution_count": null,
   "id": "4d5924cb-3760-4e85-a8a3-4e41f79cf319",
   "metadata": {},
   "outputs": [],
   "source": []
  }
 ],
 "metadata": {
  "kernelspec": {
   "display_name": "Python 3 (ipykernel)",
   "language": "python",
   "name": "python3"
  },
  "language_info": {
   "codemirror_mode": {
    "name": "ipython",
    "version": 3
   },
   "file_extension": ".py",
   "mimetype": "text/x-python",
   "name": "python",
   "nbconvert_exporter": "python",
   "pygments_lexer": "ipython3",
   "version": "3.13.2"
  }
 },
 "nbformat": 4,
 "nbformat_minor": 5
}

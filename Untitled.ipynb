{
 "cells": [
  {
   "cell_type": "code",
   "execution_count": 12,
   "id": "b35656e5-ee75-4d60-b9e4-3dff620c1c13",
   "metadata": {
    "editable": true,
    "slideshow": {
     "slide_type": ""
    },
    "tags": []
   },
   "outputs": [
    {
     "name": "stdout",
     "output_type": "stream",
     "text": [
      "['지리산', '설악산', '모악산', '백두산', '태백산']\n",
      "지리산\n",
      "['지리산', '설악산', '한라산', '백두산', '태백산']\n"
     ]
    }
   ],
   "source": [
    "mountain = ['지리산', '설악산', '모악산', '백두산', '태백산'] \n",
    "print(mountain)\n",
    "print(mountain[0])\n",
    "mountain[2] = '한라산'\n",
    "print(mountain)\n",
    "\n",
    "#이것이 수정가능한 list"
   ]
  },
  {
   "cell_type": "code",
   "execution_count": 17,
   "id": "cc8eb947-097e-4199-b3c5-c913e324a47c",
   "metadata": {},
   "outputs": [
    {
     "name": "stdout",
     "output_type": "stream",
     "text": [
      "('지리산', '설악산', '모악산', '백두산', '태백산')\n",
      "지리산\n"
     ]
    },
    {
     "ename": "NameError",
     "evalue": "name '한라산' is not defined",
     "output_type": "error",
     "traceback": [
      "\u001b[0;31m---------------------------------------------------------------------------\u001b[0m",
      "\u001b[0;31mNameError\u001b[0m                                 Traceback (most recent call last)",
      "Cell \u001b[0;32mIn[17], line 4\u001b[0m\n\u001b[1;32m      2\u001b[0m \u001b[38;5;28mprint\u001b[39m(mountain)\n\u001b[1;32m      3\u001b[0m \u001b[38;5;28mprint\u001b[39m(mountain[\u001b[38;5;241m0\u001b[39m])\n\u001b[0;32m----> 4\u001b[0m mountain[\u001b[38;5;241m2\u001b[39m] \u001b[38;5;241m=\u001b[39m \u001b[43m한라산\u001b[49m\n\u001b[1;32m      5\u001b[0m \u001b[38;5;28mprint\u001b[39m(mountain)\n",
      "\u001b[0;31mNameError\u001b[0m: name '한라산' is not defined"
     ]
    }
   ],
   "source": [
    "mountain = ('지리산', '설악산', '모악산', '백두산', '태백산')\n",
    "print(mountain)\n",
    "print(mountain[0])\n",
    "mountain[2] = 한라산\n",
    "\n",
    "#이것이 수정불가능한 튜플"
   ]
  },
  {
   "cell_type": "code",
   "execution_count": 25,
   "id": "d6d1ef02-2651-49f6-9fc6-ed7d682b05b3",
   "metadata": {},
   "outputs": [
    {
     "name": "stdout",
     "output_type": "stream",
     "text": [
      "range(0, 10)\n",
      "[0, 1, 2, 3, 4, 5, 6, 7, 8, 9]\n",
      "range(0, 13)\n",
      "[0, 1, 2, 3, 4, 5, 6, 7, 8, 9, 10, 11, 12]\n",
      "range(0, 10, 2)\n",
      "[0, 2, 4, 6, 8]\n"
     ]
    }
   ],
   "source": [
    "경마말 = range(10)\n",
    "print(경마말)\n",
    "print(list(경마말))\n",
    "\n",
    "경마말 = range(0, 13)\n",
    "print(경마말)\n",
    "print(list(경마말))\n",
    "\n",
    "경마말 = range(0, 10, 2)\n",
    "print(경마말)\n",
    "print(list(경마말))"
   ]
  },
  {
   "cell_type": "code",
   "execution_count": 27,
   "id": "787401bb-647c-4d82-bb7d-0a99ecbcb58e",
   "metadata": {},
   "outputs": [
    {
     "name": "stdout",
     "output_type": "stream",
     "text": [
      "[0, 2, 4, 6, 8, 10, 12, 14, 16, 18]\n"
     ]
    }
   ],
   "source": [
    "even = range(0, 20, 2)\n",
    "print(list(even))"
   ]
  },
  {
   "cell_type": "code",
   "execution_count": 28,
   "id": "bd9e9de7-53c8-4757-95bc-d4b6eb0bfac1",
   "metadata": {},
   "outputs": [
    {
     "name": "stdout",
     "output_type": "stream",
     "text": [
      "[0, -2, -4, -6, -8, -10, -12, -14, -16, -18]\n"
     ]
    }
   ],
   "source": [
    "numbers = range(0, -20, -2)\n",
    "print(list(numbers))"
   ]
  },
  {
   "cell_type": "code",
   "execution_count": 30,
   "id": "162663d4-b7a6-4b05-9e9d-6e519d8b0d4e",
   "metadata": {},
   "outputs": [
    {
     "name": "stdout",
     "output_type": "stream",
     "text": [
      "i\n"
     ]
    }
   ],
   "source": [
    "s = 'hi im sieon'\n",
    "print(s[3])"
   ]
  },
  {
   "cell_type": "code",
   "execution_count": 31,
   "id": "cd31a9e1-572d-439a-94a4-f71878a190a9",
   "metadata": {},
   "outputs": [],
   "source": [
    "my_list = ['a', 'b', 'c', 'd', 'e']\n",
    "my_tuple =(6, 7, 8, 9, 10)\n",
    "my_range = range(5)\n",
    "my_string = '가나다라마'"
   ]
  },
  {
   "cell_type": "code",
   "execution_count": 32,
   "id": "41993ca2-d096-48d1-9efd-b61c25bac224",
   "metadata": {},
   "outputs": [
    {
     "name": "stdout",
     "output_type": "stream",
     "text": [
      "['a', 'b']\n"
     ]
    }
   ],
   "source": [
    "print(my_list[0:2])"
   ]
  },
  {
   "cell_type": "code",
   "execution_count": 33,
   "id": "c78dc397-ba47-4328-8e0b-a7a728440431",
   "metadata": {},
   "outputs": [
    {
     "name": "stdout",
     "output_type": "stream",
     "text": [
      "['a', 'b', 'c']\n"
     ]
    }
   ],
   "source": [
    "print(my_list[ :-2])  \n",
    "#끝에서부터 2개 뺀다는 뜻"
   ]
  },
  {
   "cell_type": "code",
   "execution_count": 36,
   "id": "f845c361-5013-4eb5-b569-fdfc594d8e7d",
   "metadata": {},
   "outputs": [
    {
     "name": "stdout",
     "output_type": "stream",
     "text": [
      " shooting\n"
     ]
    },
    {
     "name": "stdout",
     "output_type": "stream",
     "text": [
      "shooting\n",
      "goal!!\n"
     ]
    }
   ],
   "source": [
    "my_string = input()\n",
    "print(my_string)\n",
    "\n",
    "if my_string == 'shooting':\n",
    "    print('goal!!')\n",
    "else:\n",
    "    print('noooo')"
   ]
  },
  {
   "cell_type": "code",
   "execution_count": 37,
   "id": "1e1f6d66-04c5-43d7-968c-f5f91b9b173c",
   "metadata": {},
   "outputs": [
    {
     "name": "stdout",
     "output_type": "stream",
     "text": [
      "숫자를 입력해보려무나 1\n"
     ]
    },
    {
     "name": "stdout",
     "output_type": "stream",
     "text": [
      "odd\n"
     ]
    }
   ],
   "source": [
    "num = input('숫자를 입력해보려무나')\n",
    "\n",
    "if int(num) % 2 == 1:\n",
    "    print('odd')\n",
    "else:\n",
    "    print('even')"
   ]
  },
  {
   "cell_type": "code",
   "execution_count": 38,
   "id": "67315029-9841-444a-b89c-eba22468a59c",
   "metadata": {},
   "outputs": [
    {
     "name": "stdout",
     "output_type": "stream",
     "text": [
      "숫자를 입력해! 1\n"
     ]
    },
    {
     "name": "stdout",
     "output_type": "stream",
     "text": [
      "odd\n"
     ]
    }
   ],
   "source": [
    "num = int(input('숫자를 입력해!'))\n",
    "\n",
    "if num % 2 == 1:\n",
    "    print('odd')\n",
    "else:\n",
    "    print('even')\n",
    "          "
   ]
  },
  {
   "cell_type": "code",
   "execution_count": 43,
   "id": "4a8e89a1-a2cb-490f-a1ba-fc5ef63e4da6",
   "metadata": {},
   "outputs": [
    {
     "name": "stdout",
     "output_type": "stream",
     "text": [
      " 3\n"
     ]
    },
    {
     "name": "stdout",
     "output_type": "stream",
     "text": [
      "3\n"
     ]
    }
   ],
   "source": [
    "num = int(input())\n",
    "\n",
    "if num >= 0: \n",
    "    result = num\n",
    "\n",
    "else:\n",
    "    result = 0\n",
    "print(result)"
   ]
  },
  {
   "cell_type": "code",
   "execution_count": 46,
   "id": "01474bee-572f-40d6-bc73-170d3b7a0127",
   "metadata": {},
   "outputs": [
    {
     "name": "stdout",
     "output_type": "stream",
     "text": [
      " -1\n"
     ]
    },
    {
     "name": "stdout",
     "output_type": "stream",
     "text": [
      "0\n"
     ]
    }
   ],
   "source": [
    "num = int(input())\n",
    "result = num if num >= 0 else 0\n",
    "print(result)"
   ]
  },
  {
   "cell_type": "code",
   "execution_count": 2,
   "id": "2c839e21-b0a2-4dba-a3e2-0becea92b1bb",
   "metadata": {},
   "outputs": [],
   "source": [
    "position = 'winger'"
   ]
  },
  {
   "cell_type": "code",
   "execution_count": 13,
   "id": "f7a28a9b-134b-407d-98fa-8369b815c4de",
   "metadata": {},
   "outputs": [
    {
     "name": "stdout",
     "output_type": "stream",
     "text": [
      "최시언의 포지션은 winger입니다.\n"
     ]
    }
   ],
   "source": [
    "print('최시언의 포지션은 %s입니다.' %position)"
   ]
  },
  {
   "cell_type": "code",
   "execution_count": 15,
   "id": "16c63e74-ae2b-427a-ab27-19e901efb20c",
   "metadata": {},
   "outputs": [
    {
     "name": "stdout",
     "output_type": "stream",
     "text": [
      "최시언의 포지션은 winger입니다.\n"
     ]
    }
   ],
   "source": [
    "print('최시언의 포지션은 {}입니다.' .format(position))"
   ]
  },
  {
   "cell_type": "code",
   "execution_count": 17,
   "id": "e4a40a4f-cfe5-43f8-827a-6d7ac529ad40",
   "metadata": {},
   "outputs": [
    {
     "name": "stdout",
     "output_type": "stream",
     "text": [
      "최시언의 포지션은 winger입니다.\n"
     ]
    }
   ],
   "source": [
    "print(f'최시언의 포지션은 {position}입니다.')"
   ]
  },
  {
   "cell_type": "code",
   "execution_count": 19,
   "id": "614a89d4-8507-4721-b61e-fcf96894a006",
   "metadata": {},
   "outputs": [],
   "source": [
    "a = 5"
   ]
  },
  {
   "cell_type": "code",
   "execution_count": 20,
   "id": "3d11b88a-fffd-49cf-8dc7-5f488004fe89",
   "metadata": {},
   "outputs": [],
   "source": [
    "b = 2"
   ]
  },
  {
   "cell_type": "code",
   "execution_count": 24,
   "id": "e43b3b4b-58d1-4185-8bcf-b8bb4eb6108e",
   "metadata": {},
   "outputs": [
    {
     "name": "stdout",
     "output_type": "stream",
     "text": [
      "7\n",
      "3\n",
      "10\n",
      "2.5\n"
     ]
    }
   ],
   "source": [
    "print(a+b)\n",
    "print(a-b)\n",
    "print(a * b)\n",
    "print(a / b)"
   ]
  },
  {
   "cell_type": "code",
   "execution_count": 25,
   "id": "eaa77fb7-9679-4cc4-ab60-4d0349956478",
   "metadata": {},
   "outputs": [
    {
     "name": "stdout",
     "output_type": "stream",
     "text": [
      "25\n"
     ]
    }
   ],
   "source": [
    "print( a ** b)"
   ]
  },
  {
   "cell_type": "code",
   "execution_count": 26,
   "id": "fadb8a16-fc66-4b24-97c9-00624c1e5cba",
   "metadata": {},
   "outputs": [
    {
     "name": "stdout",
     "output_type": "stream",
     "text": [
      "2\n"
     ]
    }
   ],
   "source": [
    "print(a // b)"
   ]
  },
  {
   "cell_type": "code",
   "execution_count": 28,
   "id": "1b7695a4-88ec-4e97-aa8b-53aaa22ab26b",
   "metadata": {},
   "outputs": [
    {
     "name": "stdout",
     "output_type": "stream",
     "text": [
      "1\n"
     ]
    }
   ],
   "source": [
    "print( a % b)"
   ]
  },
  {
   "cell_type": "code",
   "execution_count": 29,
   "id": "5b46b641-8572-4fc5-896b-5297310405a0",
   "metadata": {},
   "outputs": [],
   "source": [
    "result = divmod(a,b)"
   ]
  },
  {
   "cell_type": "code",
   "execution_count": 30,
   "id": "f2859cbb-120a-44b6-8572-06c24ca4a0ab",
   "metadata": {},
   "outputs": [
    {
     "data": {
      "text/plain": [
       "(2, 1)"
      ]
     },
     "execution_count": 30,
     "metadata": {},
     "output_type": "execute_result"
    }
   ],
   "source": [
    "result"
   ]
  },
  {
   "cell_type": "code",
   "execution_count": 31,
   "id": "d41fe053-f9fc-481c-9e45-f00e2d88e36e",
   "metadata": {},
   "outputs": [
    {
     "name": "stdout",
     "output_type": "stream",
     "text": [
      "True\n"
     ]
    }
   ],
   "source": [
    "print('hi' == 'hi')"
   ]
  },
  {
   "cell_type": "code",
   "execution_count": 34,
   "id": "9d948e7f-67b8-42ed-8577-955932cd4f73",
   "metadata": {},
   "outputs": [
    {
     "name": "stdout",
     "output_type": "stream",
     "text": [
      "1\n",
      "True\n",
      "5\n"
     ]
    }
   ],
   "source": [
    "print(1 and 1)\n",
    "print(True and True)\n",
    "print(3 and 5)"
   ]
  },
  {
   "cell_type": "code",
   "execution_count": 35,
   "id": "1656c414-db08-49b8-96f0-9805f52252fa",
   "metadata": {},
   "outputs": [
    {
     "data": {
      "text/plain": [
       "False"
      ]
     },
     "execution_count": 35,
     "metadata": {},
     "output_type": "execute_result"
    }
   ],
   "source": [
    "a == b"
   ]
  },
  {
   "cell_type": "code",
   "execution_count": 36,
   "id": "6d93f43e-bfe3-4733-b895-ea73bb4ab4bc",
   "metadata": {},
   "outputs": [
    {
     "name": "stdout",
     "output_type": "stream",
     "text": [
      "5\n"
     ]
    }
   ],
   "source": [
    "print(1 and 5)"
   ]
  },
  {
   "cell_type": "code",
   "execution_count": 40,
   "id": "13d0237b-804b-45fc-a60a-e4e40dfa811a",
   "metadata": {},
   "outputs": [
    {
     "name": "stdout",
     "output_type": "stream",
     "text": [
      "True\n"
     ]
    }
   ],
   "source": [
    "print(bool(3 and 5))"
   ]
  },
  {
   "cell_type": "code",
   "execution_count": 42,
   "id": "770978d7-051e-4c46-a7ff-16828249cdbc",
   "metadata": {},
   "outputs": [
    {
     "name": "stdout",
     "output_type": "stream",
     "text": [
      "True\n"
     ]
    }
   ],
   "source": [
    "print(bool(3 or 5))"
   ]
  },
  {
   "cell_type": "code",
   "execution_count": 43,
   "id": "4fd79ecd-1029-4378-a5ef-669eb11846a2",
   "metadata": {},
   "outputs": [
    {
     "data": {
      "text/plain": [
       "3"
      ]
     },
     "execution_count": 43,
     "metadata": {},
     "output_type": "execute_result"
    }
   ],
   "source": [
    "3 or 5"
   ]
  },
  {
   "cell_type": "code",
   "execution_count": 44,
   "id": "292cd6f9-d782-49bb-87f9-87b4d265e280",
   "metadata": {},
   "outputs": [],
   "source": [
    "a = 3"
   ]
  },
  {
   "cell_type": "code",
   "execution_count": 45,
   "id": "5eb22b0a-1b35-4895-a1bf-44a16d124ada",
   "metadata": {},
   "outputs": [],
   "source": [
    "b = 2"
   ]
  },
  {
   "cell_type": "code",
   "execution_count": 46,
   "id": "84546821-70e3-41e6-8441-b2bbec027932",
   "metadata": {},
   "outputs": [],
   "source": [
    "a = a+b"
   ]
  },
  {
   "cell_type": "code",
   "execution_count": 47,
   "id": "f3ab4f5a-fca4-4dcd-bdb6-e8a1972489e1",
   "metadata": {},
   "outputs": [
    {
     "data": {
      "text/plain": [
       "5"
      ]
     },
     "execution_count": 47,
     "metadata": {},
     "output_type": "execute_result"
    }
   ],
   "source": [
    "a"
   ]
  },
  {
   "cell_type": "code",
   "execution_count": 48,
   "id": "11323f8c-fda6-420b-a9d7-1972d2278115",
   "metadata": {},
   "outputs": [],
   "source": [
    "a += b"
   ]
  },
  {
   "cell_type": "code",
   "execution_count": 49,
   "id": "b6d90579-54d9-4ae0-ba6a-50c1afccc635",
   "metadata": {},
   "outputs": [
    {
     "data": {
      "text/plain": [
       "7"
      ]
     },
     "execution_count": 49,
     "metadata": {},
     "output_type": "execute_result"
    }
   ],
   "source": [
    "a"
   ]
  },
  {
   "cell_type": "code",
   "execution_count": 50,
   "id": "82b5181c-62c4-4d84-b929-31dd7658be20",
   "metadata": {},
   "outputs": [],
   "source": [
    "a = 'hi'\n",
    "b = 'hello'"
   ]
  },
  {
   "cell_type": "code",
   "execution_count": 51,
   "id": "3b02c226-b57d-4557-af5a-899f6ffbd827",
   "metadata": {},
   "outputs": [
    {
     "data": {
      "text/plain": [
       "'hihello'"
      ]
     },
     "execution_count": 51,
     "metadata": {},
     "output_type": "execute_result"
    }
   ],
   "source": [
    "a + b"
   ]
  },
  {
   "cell_type": "code",
   "execution_count": 54,
   "id": "99772d0f-6df7-45a2-abcc-1f0f844c4590",
   "metadata": {},
   "outputs": [],
   "source": [
    "a = [1, 2]\n",
    "b = [2, 3, 4]"
   ]
  },
  {
   "cell_type": "code",
   "execution_count": 55,
   "id": "a0a9e373-d3a6-496a-8351-b7f9c8f49f48",
   "metadata": {},
   "outputs": [
    {
     "name": "stdout",
     "output_type": "stream",
     "text": [
      "[1, 2, 2, 3, 4]\n"
     ]
    }
   ],
   "source": [
    "print(a + b)"
   ]
  },
  {
   "cell_type": "code",
   "execution_count": 56,
   "id": "ae608fb1-71b2-4759-b375-63162f4b3a35",
   "metadata": {},
   "outputs": [
    {
     "name": "stdout",
     "output_type": "stream",
     "text": [
      "True\n"
     ]
    }
   ],
   "source": [
    "print( 1 in a)"
   ]
  },
  {
   "cell_type": "code",
   "execution_count": 60,
   "id": "8cc6b622-0737-4d7f-9c11-04bf1f669685",
   "metadata": {},
   "outputs": [],
   "source": [
    "a = 2"
   ]
  },
  {
   "cell_type": "code",
   "execution_count": 61,
   "id": "18c7d578-fb19-4c85-a22d-6d2965bb72ed",
   "metadata": {},
   "outputs": [],
   "source": [
    "b = 2"
   ]
  },
  {
   "cell_type": "code",
   "execution_count": 62,
   "id": "6cfebda8-7681-4bc9-8ea2-d20988dde49b",
   "metadata": {},
   "outputs": [
    {
     "data": {
      "text/plain": [
       "True"
      ]
     },
     "execution_count": 62,
     "metadata": {},
     "output_type": "execute_result"
    }
   ],
   "source": [
    "a is b"
   ]
  },
  {
   "cell_type": "code",
   "execution_count": 63,
   "id": "58efc449-eae4-4e81-b889-edf31eefbc98",
   "metadata": {},
   "outputs": [
    {
     "name": "stdout",
     "output_type": "stream",
     "text": [
      "-81\n",
      "81\n"
     ]
    }
   ],
   "source": [
    "print(-3 ** 4)\n",
    "print((-3) ** 4)"
   ]
  },
  {
   "cell_type": "code",
   "execution_count": 64,
   "id": "3e9a4ddb-6b0c-4906-b3e4-5d65ec377b1d",
   "metadata": {},
   "outputs": [
    {
     "name": "stdout",
     "output_type": "stream",
     "text": [
      "-81\n",
      "81\n"
     ]
    }
   ],
   "source": [
    "print(-3 ** 4)\n",
    "print((-3) ** 4)"
   ]
  },
  {
   "cell_type": "code",
   "execution_count": null,
   "id": "dc249149-26bb-446a-bc44-c28007cb8a97",
   "metadata": {},
   "outputs": [],
   "source": []
  }
 ],
 "metadata": {
  "kernelspec": {
   "display_name": "Python 3 (ipykernel)",
   "language": "python",
   "name": "python3"
  },
  "language_info": {
   "codemirror_mode": {
    "name": "ipython",
    "version": 3
   },
   "file_extension": ".py",
   "mimetype": "text/x-python",
   "name": "python",
   "nbconvert_exporter": "python",
   "pygments_lexer": "ipython3",
   "version": "3.13.2"
  }
 },
 "nbformat": 4,
 "nbformat_minor": 5
}

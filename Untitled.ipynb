{
 "cells": [
  {
   "cell_type": "code",
   "execution_count": 12,
   "id": "b35656e5-ee75-4d60-b9e4-3dff620c1c13",
   "metadata": {
    "editable": true,
    "slideshow": {
     "slide_type": ""
    },
    "tags": []
   },
   "outputs": [
    {
     "name": "stdout",
     "output_type": "stream",
     "text": [
      "['지리산', '설악산', '모악산', '백두산', '태백산']\n",
      "지리산\n",
      "['지리산', '설악산', '한라산', '백두산', '태백산']\n"
     ]
    }
   ],
   "source": [
    "mountain = ['지리산', '설악산', '모악산', '백두산', '태백산'] \n",
    "print(mountain)\n",
    "print(mountain[0])\n",
    "mountain[2] = '한라산'\n",
    "print(mountain)\n",
    "\n",
    "#이것이 수정가능한 list"
   ]
  },
  {
   "cell_type": "code",
   "execution_count": 17,
   "id": "cc8eb947-097e-4199-b3c5-c913e324a47c",
   "metadata": {},
   "outputs": [
    {
     "name": "stdout",
     "output_type": "stream",
     "text": [
      "('지리산', '설악산', '모악산', '백두산', '태백산')\n",
      "지리산\n"
     ]
    },
    {
     "ename": "NameError",
     "evalue": "name '한라산' is not defined",
     "output_type": "error",
     "traceback": [
      "\u001b[0;31m---------------------------------------------------------------------------\u001b[0m",
      "\u001b[0;31mNameError\u001b[0m                                 Traceback (most recent call last)",
      "Cell \u001b[0;32mIn[17], line 4\u001b[0m\n\u001b[1;32m      2\u001b[0m \u001b[38;5;28mprint\u001b[39m(mountain)\n\u001b[1;32m      3\u001b[0m \u001b[38;5;28mprint\u001b[39m(mountain[\u001b[38;5;241m0\u001b[39m])\n\u001b[0;32m----> 4\u001b[0m mountain[\u001b[38;5;241m2\u001b[39m] \u001b[38;5;241m=\u001b[39m \u001b[43m한라산\u001b[49m\n\u001b[1;32m      5\u001b[0m \u001b[38;5;28mprint\u001b[39m(mountain)\n",
      "\u001b[0;31mNameError\u001b[0m: name '한라산' is not defined"
     ]
    }
   ],
   "source": [
    "mountain = ('지리산', '설악산', '모악산', '백두산', '태백산')\n",
    "print(mountain)\n",
    "print(mountain[0])\n",
    "mountain[2] = 한라산\n",
    "\n",
    "#이것이 수정불가능한 튜플"
   ]
  },
  {
   "cell_type": "code",
   "execution_count": 25,
   "id": "d6d1ef02-2651-49f6-9fc6-ed7d682b05b3",
   "metadata": {},
   "outputs": [
    {
     "name": "stdout",
     "output_type": "stream",
     "text": [
      "range(0, 10)\n",
      "[0, 1, 2, 3, 4, 5, 6, 7, 8, 9]\n",
      "range(0, 13)\n",
      "[0, 1, 2, 3, 4, 5, 6, 7, 8, 9, 10, 11, 12]\n",
      "range(0, 10, 2)\n",
      "[0, 2, 4, 6, 8]\n"
     ]
    }
   ],
   "source": [
    "경마말 = range(10)\n",
    "print(경마말)\n",
    "print(list(경마말))\n",
    "\n",
    "경마말 = range(0, 13)\n",
    "print(경마말)\n",
    "print(list(경마말))\n",
    "\n",
    "경마말 = range(0, 10, 2)\n",
    "print(경마말)\n",
    "print(list(경마말))"
   ]
  },
  {
   "cell_type": "code",
   "execution_count": 27,
   "id": "787401bb-647c-4d82-bb7d-0a99ecbcb58e",
   "metadata": {},
   "outputs": [
    {
     "name": "stdout",
     "output_type": "stream",
     "text": [
      "[0, 2, 4, 6, 8, 10, 12, 14, 16, 18]\n"
     ]
    }
   ],
   "source": [
    "even = range(0, 20, 2)\n",
    "print(list(even))"
   ]
  },
  {
   "cell_type": "code",
   "execution_count": 28,
   "id": "bd9e9de7-53c8-4757-95bc-d4b6eb0bfac1",
   "metadata": {},
   "outputs": [
    {
     "name": "stdout",
     "output_type": "stream",
     "text": [
      "[0, -2, -4, -6, -8, -10, -12, -14, -16, -18]\n"
     ]
    }
   ],
   "source": [
    "numbers = range(0, -20, -2)\n",
    "print(list(numbers))"
   ]
  },
  {
   "cell_type": "code",
   "execution_count": 30,
   "id": "162663d4-b7a6-4b05-9e9d-6e519d8b0d4e",
   "metadata": {},
   "outputs": [
    {
     "name": "stdout",
     "output_type": "stream",
     "text": [
      "i\n"
     ]
    }
   ],
   "source": [
    "s = 'hi im sieon'\n",
    "print(s[3])"
   ]
  },
  {
   "cell_type": "code",
   "execution_count": 31,
   "id": "cd31a9e1-572d-439a-94a4-f71878a190a9",
   "metadata": {},
   "outputs": [],
   "source": [
    "my_list = ['a', 'b', 'c', 'd', 'e']\n",
    "my_tuple =(6, 7, 8, 9, 10)\n",
    "my_range = range(5)\n",
    "my_string = '가나다라마'"
   ]
  },
  {
   "cell_type": "code",
   "execution_count": 32,
   "id": "41993ca2-d096-48d1-9efd-b61c25bac224",
   "metadata": {},
   "outputs": [
    {
     "name": "stdout",
     "output_type": "stream",
     "text": [
      "['a', 'b']\n"
     ]
    }
   ],
   "source": [
    "print(my_list[0:2])"
   ]
  },
  {
   "cell_type": "code",
   "execution_count": 33,
   "id": "c78dc397-ba47-4328-8e0b-a7a728440431",
   "metadata": {},
   "outputs": [
    {
     "name": "stdout",
     "output_type": "stream",
     "text": [
      "['a', 'b', 'c']\n"
     ]
    }
   ],
   "source": [
    "print(my_list[ :-2])  \n",
    "#끝에서부터 2개 뺀다는 뜻"
   ]
  },
  {
   "cell_type": "code",
   "execution_count": 36,
   "id": "f845c361-5013-4eb5-b569-fdfc594d8e7d",
   "metadata": {},
   "outputs": [
    {
     "name": "stdout",
     "output_type": "stream",
     "text": [
      " shooting\n"
     ]
    },
    {
     "name": "stdout",
     "output_type": "stream",
     "text": [
      "shooting\n",
      "goal!!\n"
     ]
    }
   ],
   "source": [
    "my_string = input()\n",
    "print(my_string)\n",
    "\n",
    "if my_string == 'shooting':\n",
    "    print('goal!!')\n",
    "else:\n",
    "    print('noooo')"
   ]
  },
  {
   "cell_type": "code",
   "execution_count": 37,
   "id": "1e1f6d66-04c5-43d7-968c-f5f91b9b173c",
   "metadata": {},
   "outputs": [
    {
     "name": "stdout",
     "output_type": "stream",
     "text": [
      "숫자를 입력해보려무나 1\n"
     ]
    },
    {
     "name": "stdout",
     "output_type": "stream",
     "text": [
      "odd\n"
     ]
    }
   ],
   "source": [
    "num = input('숫자를 입력해보려무나')\n",
    "\n",
    "if int(num) % 2 == 1:\n",
    "    print('odd')\n",
    "else:\n",
    "    print('even')"
   ]
  },
  {
   "cell_type": "code",
   "execution_count": 38,
   "id": "67315029-9841-444a-b89c-eba22468a59c",
   "metadata": {},
   "outputs": [
    {
     "name": "stdout",
     "output_type": "stream",
     "text": [
      "숫자를 입력해! 1\n"
     ]
    },
    {
     "name": "stdout",
     "output_type": "stream",
     "text": [
      "odd\n"
     ]
    }
   ],
   "source": [
    "num = int(input('숫자를 입력해!'))\n",
    "\n",
    "if num % 2 == 1:\n",
    "    print('odd')\n",
    "else:\n",
    "    print('even')\n",
    "          "
   ]
  },
  {
   "cell_type": "code",
   "execution_count": 43,
   "id": "4a8e89a1-a2cb-490f-a1ba-fc5ef63e4da6",
   "metadata": {},
   "outputs": [
    {
     "name": "stdout",
     "output_type": "stream",
     "text": [
      " 3\n"
     ]
    },
    {
     "name": "stdout",
     "output_type": "stream",
     "text": [
      "3\n"
     ]
    }
   ],
   "source": [
    "num = int(input())\n",
    "\n",
    "if num >= 0: \n",
    "    result = num\n",
    "\n",
    "else:\n",
    "    result = 0\n",
    "print(result)"
   ]
  },
  {
   "cell_type": "code",
   "execution_count": 46,
   "id": "01474bee-572f-40d6-bc73-170d3b7a0127",
   "metadata": {},
   "outputs": [
    {
     "name": "stdout",
     "output_type": "stream",
     "text": [
      " -1\n"
     ]
    },
    {
     "name": "stdout",
     "output_type": "stream",
     "text": [
      "0\n"
     ]
    }
   ],
   "source": [
    "num = int(input())\n",
    "result = num if num >= 0 else 0\n",
    "print(result)"
   ]
  },
  {
   "cell_type": "code",
   "execution_count": null,
   "id": "2c839e21-b0a2-4dba-a3e2-0becea92b1bb",
   "metadata": {},
   "outputs": [],
   "source": []
  }
 ],
 "metadata": {
  "kernelspec": {
   "display_name": "Python 3 (ipykernel)",
   "language": "python",
   "name": "python3"
  },
  "language_info": {
   "codemirror_mode": {
    "name": "ipython",
    "version": 3
   },
   "file_extension": ".py",
   "mimetype": "text/x-python",
   "name": "python",
   "nbconvert_exporter": "python",
   "pygments_lexer": "ipython3",
   "version": "3.13.2"
  }
 },
 "nbformat": 4,
 "nbformat_minor": 5
}

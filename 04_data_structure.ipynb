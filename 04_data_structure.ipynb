{
 "cells": [
  {
   "cell_type": "markdown",
   "id": "5cf6f607-4fc6-453b-947f-7b7905b0b2e3",
   "metadata": {},
   "source": [
    "### 자료구조\n",
    "> 여러가지 자료구조가 가지고 있는 메소드(함수) 알아보기"
   ]
  },
  {
   "cell_type": "code",
   "execution_count": 1,
   "id": "e7840f37-b718-44a5-bf25-ff3a348c0648",
   "metadata": {},
   "outputs": [
    {
     "name": "stdout",
     "output_type": "stream",
     "text": [
      "['__add__', '__class__', '__contains__', '__delattr__', '__dir__', '__doc__', '__eq__', '__format__', '__ge__', '__getattribute__', '__getitem__', '__getnewargs__', '__getstate__', '__gt__', '__hash__', '__init__', '__init_subclass__', '__iter__', '__le__', '__len__', '__lt__', '__mod__', '__mul__', '__ne__', '__new__', '__reduce__', '__reduce_ex__', '__repr__', '__rmod__', '__rmul__', '__setattr__', '__sizeof__', '__str__', '__subclasshook__', 'capitalize', 'casefold', 'center', 'count', 'encode', 'endswith', 'expandtabs', 'find', 'format', 'format_map', 'index', 'isalnum', 'isalpha', 'isascii', 'isdecimal', 'isdigit', 'isidentifier', 'islower', 'isnumeric', 'isprintable', 'isspace', 'istitle', 'isupper', 'join', 'ljust', 'lower', 'lstrip', 'maketrans', 'partition', 'removeprefix', 'removesuffix', 'replace', 'rfind', 'rindex', 'rjust', 'rpartition', 'rsplit', 'rstrip', 'split', 'splitlines', 'startswith', 'strip', 'swapcase', 'title', 'translate', 'upper', 'zfill']\n"
     ]
    }
   ],
   "source": [
    "print(dir('hello'))"
   ]
  },
  {
   "cell_type": "markdown",
   "id": "a474b02a-93c7-4047-9eef-9809c5f52016",
   "metadata": {},
   "source": [
    "### 문자열 메소드"
   ]
  },
  {
   "cell_type": "code",
   "execution_count": 20,
   "id": "863cc6df-f2bc-4d5d-a80d-28eecf6f384a",
   "metadata": {},
   "outputs": [],
   "source": [
    "a = 'hello my name is choi'"
   ]
  },
  {
   "cell_type": "code",
   "execution_count": 21,
   "id": "5c53988d-d7ff-463e-af0a-9d60cc62df56",
   "metadata": {},
   "outputs": [
    {
     "name": "stdout",
     "output_type": "stream",
     "text": [
      "hello my name is choi\n"
     ]
    }
   ],
   "source": [
    "print(a)"
   ]
  },
  {
   "cell_type": "code",
   "execution_count": 22,
   "id": "77988e68-c18f-4fc5-b848-8ec38824755f",
   "metadata": {},
   "outputs": [
    {
     "ename": "TypeError",
     "evalue": "'str' object does not support item assignment",
     "output_type": "error",
     "traceback": [
      "\u001b[0;31m---------------------------------------------------------------------------\u001b[0m",
      "\u001b[0;31mTypeError\u001b[0m                                 Traceback (most recent call last)",
      "Cell \u001b[0;32mIn[22], line 1\u001b[0m\n\u001b[0;32m----> 1\u001b[0m \u001b[43ma\u001b[49m\u001b[43m[\u001b[49m\u001b[38;5;241;43m0\u001b[39;49m\u001b[43m]\u001b[49m \u001b[38;5;241m=\u001b[39m \u001b[38;5;124m'\u001b[39m\u001b[38;5;124mH\u001b[39m\u001b[38;5;124m'\u001b[39m\n",
      "\u001b[0;31mTypeError\u001b[0m: 'str' object does not support item assignment"
     ]
    }
   ],
   "source": [
    "a[0] = 'H'"
   ]
  },
  {
   "cell_type": "code",
   "execution_count": 23,
   "id": "69b4d189-4ac2-49a0-95fa-033e4aa7020a",
   "metadata": {},
   "outputs": [
    {
     "name": "stdout",
     "output_type": "stream",
     "text": [
      "Hello my name is choi\n",
      "hello my name is choi\n"
     ]
    }
   ],
   "source": [
    "a.capitalize()\n",
    "print(a.capitalize())\n",
    "print(a)\n",
    "\n",
    "# 원본이 바뀌는게 아닌, 함수로 리턴값을 만든 것"
   ]
  },
  {
   "cell_type": "code",
   "execution_count": 24,
   "id": "45a7e8c3-794a-407f-989f-e8cdd977991c",
   "metadata": {},
   "outputs": [
    {
     "data": {
      "text/plain": [
       "'Hello My Name Is Choi'"
      ]
     },
     "execution_count": 24,
     "metadata": {},
     "output_type": "execute_result"
    }
   ],
   "source": [
    "a. title()"
   ]
  },
  {
   "cell_type": "code",
   "execution_count": 25,
   "id": "dde59382-aaf4-4702-9d62-5e1eacbab4ad",
   "metadata": {},
   "outputs": [
    {
     "data": {
      "text/plain": [
       "'hello my name is choi'"
      ]
     },
     "execution_count": 25,
     "metadata": {},
     "output_type": "execute_result"
    }
   ],
   "source": [
    "a. lower()"
   ]
  },
  {
   "cell_type": "code",
   "execution_count": 26,
   "id": "05b2fcb7-5665-41e4-9175-92cbac62559d",
   "metadata": {},
   "outputs": [
    {
     "data": {
      "text/plain": [
       "'HELLO MY NAME IS CHOI'"
      ]
     },
     "execution_count": 26,
     "metadata": {},
     "output_type": "execute_result"
    }
   ],
   "source": [
    "a. upper()"
   ]
  },
  {
   "cell_type": "code",
   "execution_count": 28,
   "id": "292b092c-bd69-4189-8eff-1120c0c90b56",
   "metadata": {},
   "outputs": [
    {
     "data": {
      "text/plain": [
       "'my!name!is'"
      ]
     },
     "execution_count": 28,
     "metadata": {},
     "output_type": "execute_result"
    }
   ],
   "source": [
    "my_list = ['my', 'name', 'is']\n",
    "'!'.join(my_list)\n"
   ]
  },
  {
   "cell_type": "code",
   "execution_count": 29,
   "id": "abd6ee94-de16-4e28-8e7c-cac86b4bfbb4",
   "metadata": {},
   "outputs": [
    {
     "data": {
      "text/plain": [
       "'배?고?프?다'"
      ]
     },
     "execution_count": 29,
     "metadata": {},
     "output_type": "execute_result"
    }
   ],
   "source": [
    "'?'.join('배고프다')"
   ]
  },
  {
   "cell_type": "code",
   "execution_count": 33,
   "id": "ef7bda7a-32c3-47bc-9d0e-9761fa6ade56",
   "metadata": {},
   "outputs": [
    {
     "data": {
      "text/plain": [
       "'hello'"
      ]
     },
     "execution_count": 33,
     "metadata": {},
     "output_type": "execute_result"
    }
   ],
   "source": [
    "a = ' \\t   hello \\n'\n",
    "a.strip()"
   ]
  },
  {
   "cell_type": "code",
   "execution_count": 34,
   "id": "42042b43-ac20-43fb-b0ef-30c46aaaa5d3",
   "metadata": {},
   "outputs": [
    {
     "data": {
      "text/plain": [
       "'hello??????????'"
      ]
     },
     "execution_count": 34,
     "metadata": {},
     "output_type": "execute_result"
    }
   ],
   "source": [
    "a = '!!!!!!!!!!!hello??????????'\n",
    "a.strip('!')\n",
    "\n",
    "# def strip(char=' ')"
   ]
  },
  {
   "cell_type": "code",
   "execution_count": 35,
   "id": "6fe672d5-aa7b-4c1a-866a-1eac3a4edd0c",
   "metadata": {},
   "outputs": [
    {
     "data": {
      "text/plain": [
       "'hello-----'"
      ]
     },
     "execution_count": 35,
     "metadata": {},
     "output_type": "execute_result"
    }
   ],
   "source": [
    "a = '-------hello-----'\n",
    "a.lstrip('-')\n",
    "\n",
    "# rstirp"
   ]
  },
  {
   "cell_type": "code",
   "execution_count": 47,
   "id": "380db4a5-b365-47e1-b955-2e311d21edaf",
   "metadata": {},
   "outputs": [
    {
     "data": {
      "text/plain": [
       "'w!!!ooooow'"
      ]
     },
     "execution_count": 47,
     "metadata": {},
     "output_type": "execute_result"
    }
   ],
   "source": [
    "a = 'woooooooow'\n",
    "a.replace('o','!', 3)"
   ]
  },
  {
   "cell_type": "code",
   "execution_count": 48,
   "id": "894bda2e-297a-4c28-8627-3969205d174d",
   "metadata": {},
   "outputs": [
    {
     "data": {
      "text/plain": [
       "-1"
      ]
     },
     "execution_count": 48,
     "metadata": {},
     "output_type": "execute_result"
    }
   ],
   "source": [
    "a = 'apple'\n",
    "a. find('a')\n",
    "a. find('l')\n",
    "a. find('p')\n",
    "a. find('z')"
   ]
  },
  {
   "cell_type": "code",
   "execution_count": 50,
   "id": "f802402b-2417-484d-b3a6-253b5b948ef2",
   "metadata": {},
   "outputs": [
    {
     "data": {
      "text/plain": [
       "1"
      ]
     },
     "execution_count": 50,
     "metadata": {},
     "output_type": "execute_result"
    }
   ],
   "source": [
    "a = 'apple'\n",
    "a. index('a')\n",
    "a. index('l')\n",
    "a. index('p')"
   ]
  },
  {
   "cell_type": "code",
   "execution_count": 51,
   "id": "363b1ceb-f79b-4493-ade3-d75bcee29549",
   "metadata": {},
   "outputs": [
    {
     "data": {
      "text/plain": [
       "['my', 'name', 'is', 'choi']"
      ]
     },
     "execution_count": 51,
     "metadata": {},
     "output_type": "execute_result"
    }
   ],
   "source": [
    "a = 'my name is choi'\n",
    "a.split()"
   ]
  },
  {
   "cell_type": "code",
   "execution_count": 53,
   "id": "daa501c6-6227-49ae-b42c-94ced878f85a",
   "metadata": {},
   "outputs": [
    {
     "data": {
      "text/plain": [
       "['my', 'name', 'is', 'choi']"
      ]
     },
     "execution_count": 53,
     "metadata": {},
     "output_type": "execute_result"
    }
   ],
   "source": [
    "a = 'my!name!is!choi'\n",
    "a.split('!')"
   ]
  },
  {
   "cell_type": "code",
   "execution_count": 1,
   "id": "61aceef5-2893-4747-bd68-6a334cba1167",
   "metadata": {},
   "outputs": [
    {
     "ename": "SyntaxError",
     "evalue": "unterminated string literal (detected at line 1) (284611149.py, line 1)",
     "output_type": "error",
     "traceback": [
      "\u001b[0;36m  Cell \u001b[0;32mIn[1], line 1\u001b[0;36m\u001b[0m\n\u001b[0;31m    a = 'wooooooow\u001b[0m\n\u001b[0m        ^\u001b[0m\n\u001b[0;31mSyntaxError\u001b[0m\u001b[0;31m:\u001b[0m unterminated string literal (detected at line 1)\n"
     ]
    }
   ],
   "source": [
    "a = 'wooooooow"
   ]
  },
  {
   "cell_type": "markdown",
   "id": "cf2fa590-1a9e-4270-996e-3446b93f1201",
   "metadata": {},
   "source": [
    "### 리스트 메소드"
   ]
  },
  {
   "cell_type": "code",
   "execution_count": 36,
   "id": "5a1e47fb-e212-4024-82ab-b4c633487237",
   "metadata": {},
   "outputs": [],
   "source": [
    "numbers = [2, 3, 5, 6, 1 ,7,9 ]"
   ]
  },
  {
   "cell_type": "code",
   "execution_count": 37,
   "id": "a60722dc-1018-4ec3-af18-0ad853bb6850",
   "metadata": {},
   "outputs": [
    {
     "name": "stdout",
     "output_type": "stream",
     "text": [
      "[2, 3, 5, 6, 1, 7, 9, 10]\n"
     ]
    }
   ],
   "source": [
    "numbers.append(10)\n",
    "print(numbers)"
   ]
  },
  {
   "cell_type": "code",
   "execution_count": 38,
   "id": "bba27e14-def0-4eb9-baec-80883b29876b",
   "metadata": {},
   "outputs": [],
   "source": [
    "a = [99, 100]"
   ]
  },
  {
   "cell_type": "code",
   "execution_count": 39,
   "id": "cf315f74-39be-4516-a921-dd5a9b185cfd",
   "metadata": {},
   "outputs": [
    {
     "name": "stdout",
     "output_type": "stream",
     "text": [
      "[2, 3, 5, 6, 1, 7, 9, 10, 99, 100]\n"
     ]
    }
   ],
   "source": [
    "numbers.extend(a) # => numbers + a\n",
    "print(numbers)"
   ]
  },
  {
   "cell_type": "code",
   "execution_count": 40,
   "id": "73896973-cd16-4b24-ae11-a39189a51713",
   "metadata": {
    "scrolled": true
   },
   "outputs": [
    {
     "name": "stdout",
     "output_type": "stream",
     "text": [
      "[2, 3, 5, 5, 6, 1, 7, 9, 10, 99, 100]\n"
     ]
    }
   ],
   "source": [
    "numbers.insert(3, 5)\n",
    "print(numbers)"
   ]
  },
  {
   "cell_type": "code",
   "execution_count": 41,
   "id": "2bc35c02-6931-4b8b-b45b-c7a5aada6585",
   "metadata": {},
   "outputs": [
    {
     "name": "stdout",
     "output_type": "stream",
     "text": [
      "[2, 3, 5, 6, 1, 7, 9, 10, 99, 100]\n"
     ]
    }
   ],
   "source": [
    "numbers.remove(5)\n",
    "print(numbers)"
   ]
  },
  {
   "cell_type": "code",
   "execution_count": 42,
   "id": "ec156753-8645-4e51-81ba-80abe8bfcb73",
   "metadata": {},
   "outputs": [
    {
     "name": "stdout",
     "output_type": "stream",
     "text": [
      "[2, 3, 5, 6, 1, 7, 9, 10, 99]\n"
     ]
    }
   ],
   "source": [
    "numbers.pop()\n",
    "print(numbers)"
   ]
  },
  {
   "cell_type": "code",
   "execution_count": 43,
   "id": "50abc8ee-f70e-4e59-9ada-cd758401e863",
   "metadata": {},
   "outputs": [
    {
     "name": "stdout",
     "output_type": "stream",
     "text": [
      "[3, 5, 6, 1, 7, 9, 10, 99]\n"
     ]
    }
   ],
   "source": [
    "numbers.pop(0)\n",
    "print(numbers)"
   ]
  },
  {
   "cell_type": "code",
   "execution_count": 44,
   "id": "f41cff04-c18a-438b-92ae-7ac8a0e63831",
   "metadata": {},
   "outputs": [
    {
     "name": "stdout",
     "output_type": "stream",
     "text": [
      "[1, 3, 5, 6, 7, 9, 10, 99]\n"
     ]
    }
   ],
   "source": [
    "numbers.sort()\n",
    "print(numbers)"
   ]
  },
  {
   "cell_type": "code",
   "execution_count": 45,
   "id": "c4b336c4-77b4-4539-8b76-bc37f2b0e54b",
   "metadata": {},
   "outputs": [
    {
     "name": "stdout",
     "output_type": "stream",
     "text": [
      "[99, 10, 9, 7, 6, 5, 3, 1]\n"
     ]
    }
   ],
   "source": [
    "numbers.sort(reverse=True)\n",
    "print(numbers)"
   ]
  },
  {
   "cell_type": "code",
   "execution_count": 48,
   "id": "0088a434-e550-4dfa-a58f-ceb8a79c3c9d",
   "metadata": {},
   "outputs": [
    {
     "name": "stdout",
     "output_type": "stream",
     "text": [
      "[1, 3, 5, 6, 7, 9, 10, 99]\n",
      "[99, 10, 9, 7, 6, 5, 3, 1]\n"
     ]
    }
   ],
   "source": [
    "print(sorted(numbers))\n",
    "print(numbers) # sorted 원본 데이터 자체를 바꾸진 않음, sort는 바꿈.."
   ]
  },
  {
   "cell_type": "code",
   "execution_count": 53,
   "id": "82f8e68c-bff7-489c-90a0-a6af16a09425",
   "metadata": {},
   "outputs": [
    {
     "name": "stdout",
     "output_type": "stream",
     "text": [
      "['a', 'b', 'e', 'o']\n"
     ]
    }
   ],
   "source": [
    "my_list = ['a', 'e', 'o', 'b']\n",
    "my_list.sort()\n",
    "print(my_list)"
   ]
  },
  {
   "cell_type": "code",
   "execution_count": 54,
   "id": "6ca5c212-8fa0-4711-a760-7397a2f69502",
   "metadata": {},
   "outputs": [
    {
     "name": "stdout",
     "output_type": "stream",
     "text": [
      "[99, 10, 9, 7, 6, 5, 3, 1]\n",
      "[1, 3, 5, 6, 7, 9, 10, 99]\n"
     ]
    }
   ],
   "source": [
    "print(numbers)\n",
    "numbers.reverse()\n",
    "print(numbers)"
   ]
  },
  {
   "cell_type": "code",
   "execution_count": 55,
   "id": "d4d3b869-7a38-416c-828f-1a726f4bdd4a",
   "metadata": {},
   "outputs": [
    {
     "data": {
      "text/plain": [
       "1"
      ]
     },
     "execution_count": 55,
     "metadata": {},
     "output_type": "execute_result"
    }
   ],
   "source": [
    "numbers.count(10)"
   ]
  },
  {
   "cell_type": "markdown",
   "id": "69bd9895-8101-4245-9c22-10515ca514ef",
   "metadata": {},
   "source": [
    "### list copy"
   ]
  },
  {
   "cell_type": "code",
   "execution_count": 57,
   "id": "452ff62d-d620-46aa-af59-b49c46dfe348",
   "metadata": {},
   "outputs": [],
   "source": [
    "origin_list = [1, 2, 3]"
   ]
  },
  {
   "cell_type": "code",
   "execution_count": 59,
   "id": "6915ec00-b3f3-4141-8d59-40d39f60dc67",
   "metadata": {},
   "outputs": [],
   "source": [
    "copy_list = origin_list"
   ]
  },
  {
   "cell_type": "code",
   "execution_count": 61,
   "id": "3a356cba-4e3f-4681-8e90-21fb2addbf52",
   "metadata": {},
   "outputs": [
    {
     "name": "stdout",
     "output_type": "stream",
     "text": [
      "[1, 2, 3]\n",
      "[1, 2, 3]\n"
     ]
    }
   ],
   "source": [
    "print(origin_list)\n",
    "print(copy_list)"
   ]
  },
  {
   "cell_type": "code",
   "execution_count": 64,
   "id": "ebebfff2-eb0c-4c1d-8a46-b368809a746f",
   "metadata": {},
   "outputs": [
    {
     "name": "stdout",
     "output_type": "stream",
     "text": [
      "[1, 2, 3]\n",
      "[1, 2, 3]\n"
     ]
    }
   ],
   "source": [
    "copy_list_0 = 17980\n",
    "print(origin_list)\n",
    "print(copy_list)\n"
   ]
  },
  {
   "cell_type": "code",
   "execution_count": 68,
   "id": "09082668-1bc0-4b62-aafa-e68b17b1e93f",
   "metadata": {},
   "outputs": [
    {
     "ename": "SyntaxError",
     "evalue": "unmatched '}' (125914563.py, line 2)",
     "output_type": "error",
     "traceback": [
      "\u001b[0;36m  Cell \u001b[0;32mIn[68], line 2\u001b[0;36m\u001b[0m\n\u001b[0;31m    copy_list = origin_list[:]}\u001b[0m\n\u001b[0m                              ^\u001b[0m\n\u001b[0;31mSyntaxError\u001b[0m\u001b[0;31m:\u001b[0m unmatched '}'\n"
     ]
    }
   ],
   "source": [
    "origin_list = [1,2,3]\n",
    "copy_list = origin_list[:]}\n",
    "\n",
    "copy list [0] 2=100\n",
    "\n",
    "copy_list[0]\n",
    "print(o_1)\n"
   ]
  },
  {
   "cell_type": "code",
   "execution_count": 66,
   "id": "fee9c64a-18b1-4231-ac52-ca7d2521e5fb",
   "metadata": {},
   "outputs": [
    {
     "ename": "SyntaxError",
     "evalue": "closing parenthesis ']' does not match opening parenthesis '{' (163897391.py, line 1)",
     "output_type": "error",
     "traceback": [
      "\u001b[0;36m  Cell \u001b[0;32mIn[66], line 1\u001b[0;36m\u001b[0m\n\u001b[0;31m    o_1 = list {1,2,[10, 11]]\u001b[0m\n\u001b[0m                            ^\u001b[0m\n\u001b[0;31mSyntaxError\u001b[0m\u001b[0;31m:\u001b[0m closing parenthesis ']' does not match opening parenthesis '{'\n"
     ]
    }
   ],
   "source": [
    "3제대로 못 들음\n",
    "\n",
    "o_1 = list {1,2,[10, 11]]\n",
    "c_1[e]= o_[]1:\n",
    "# 여기 못적은 거  많음. 나중에 제대로 수정하도록.\n",
    "c_1[]"
   ]
  },
  {
   "cell_type": "code",
   "execution_count": 70,
   "id": "fe02c473-2146-45c9-85fa-a08d02ad8cd0",
   "metadata": {},
   "outputs": [
    {
     "ename": "IndentationError",
     "evalue": "unexpected indent (2549627853.py, line 3)",
     "output_type": "error",
     "traceback": [
      "\u001b[0;36m  Cell \u001b[0;32mIn[70], line 3\u001b[0;36m\u001b[0m\n\u001b[0;31m    o_l = [1,2, [10,11]]\u001b[0m\n\u001b[0m    ^\u001b[0m\n\u001b[0;31mIndentationError\u001b[0m\u001b[0;31m:\u001b[0m unexpected indent\n"
     ]
    }
   ],
   "source": [
    "import copy\n",
    "#제대로 못들ㅁ음\n",
    "\n",
    "    o_l = [1,2, [10,11]]\n",
    "        c_l = copy, deepcopy(o_l)\n",
    "\n",
    "   c_1 = cl[0]\n",
    "        b_l ="
   ]
  },
  {
   "cell_type": "markdown",
   "id": "954c05c6-ecb0-4d55-8deb-561be635374c",
   "metadata": {},
   "source": [
    "### list comprehension"
   ]
  },
  {
   "cell_type": "code",
   "execution_count": 74,
   "id": "053f716f-7378-4c11-a5b9-33eedfa668d7",
   "metadata": {},
   "outputs": [],
   "source": [
    "numbers = list(range (1, 11, 1))"
   ]
  },
  {
   "cell_type": "code",
   "execution_count": 77,
   "id": "9eeec3a1-958b-4229-8b9b-0ae67101f905",
   "metadata": {},
   "outputs": [
    {
     "name": "stdout",
     "output_type": "stream",
     "text": [
      "[1, 8, 27, 64, 125, 216, 343, 512, 729, 1000]\n"
     ]
    }
   ],
   "source": [
    "result = []\n",
    "for number in numbers:\n",
    "    temp = number ** 3\n",
    "    result.append(temp)\n",
    "\n",
    "print(result)"
   ]
  },
  {
   "cell_type": "code",
   "execution_count": 79,
   "id": "d39a2c23-e4ea-4a42-9fa0-b78ada7f4e31",
   "metadata": {},
   "outputs": [
    {
     "name": "stdout",
     "output_type": "stream",
     "text": [
      "[1, 8, 27, 64, 125, 216, 343, 512, 729, 1000]\n"
     ]
    }
   ],
   "source": [
    "result =  [number ** 3 for number in numbers]\n",
    "print(result)\n",
    "\n",
    "# result = [number1 ** 3, number2 **3]"
   ]
  },
  {
   "cell_type": "code",
   "execution_count": 89,
   "id": "9c2d7e75-888a-4854-8e8e-2e1f2e0e7cff",
   "metadata": {},
   "outputs": [
    {
     "name": "stdout",
     "output_type": "stream",
     "text": [
      "[2, 4, 6, 8, 10, 12, 14, 16, 18, 20, 22, 24, 26, 28, 30]\n"
     ]
    }
   ],
   "source": [
    "# 짝수만 고르기\n",
    "numbers = list(range(1, 31))\n",
    "result = []\n",
    "\n",
    "for number in numbers:\n",
    "    if number % 2 == 0:\n",
    "        result.append(number)\n",
    "print(result)"
   ]
  },
  {
   "cell_type": "code",
   "execution_count": 88,
   "id": "77173fed-bb12-471b-bec0-c715eab41eb4",
   "metadata": {},
   "outputs": [
    {
     "name": "stdout",
     "output_type": "stream",
     "text": [
      "[2, 4, 6, 8, 10, 12, 14, 16, 18, 20, 22, 24, 26, 28, 30]\n"
     ]
    }
   ],
   "source": [
    "numbers = list(range(1, 31))\n",
    "result = [number for number in numbers if number % 2 == 0]\n",
    "print(result)"
   ]
  },
  {
   "cell_type": "code",
   "execution_count": 138,
   "id": "5c1d353d-60ec-413b-b5d4-af6a42936647",
   "metadata": {},
   "outputs": [],
   "source": [
    "# 연습! 모음 제거\n",
    "words = 'my name is hong'\n",
    "\n"
   ]
  },
  {
   "cell_type": "code",
   "execution_count": 146,
   "id": "f6101f59-a680-4d0e-81c1-a74ffe3d2ebb",
   "metadata": {},
   "outputs": [
    {
     "name": "stdout",
     "output_type": "stream",
     "text": [
      "my nm s hng\n"
     ]
    }
   ],
   "source": [
    "words = 'my name is hong'\n",
    "vowels = ['a', 'e', 'i', 'o', 'u']\n",
    "result = []\n",
    "\n",
    "for char in words:\n",
    "    if char not in vowels: \n",
    "        result.append(char)\n",
    "\n",
    "print(''.join(result))"
   ]
  },
  {
   "cell_type": "code",
   "execution_count": 149,
   "id": "303053ee-9ee4-4ffd-9d72-52d5984b62bf",
   "metadata": {},
   "outputs": [
    {
     "name": "stdout",
     "output_type": "stream",
     "text": [
      "['m', 'y', ' ', 'n', 'm', ' ', 's', ' ', 'h', 'n', 'g']\n",
      "my nm s hng\n"
     ]
    }
   ],
   "source": [
    "vowels = 'aeiou'\n",
    "result = [char for char in words if char not in vowels]\n",
    "print(result)\n",
    "print(''.join(result))"
   ]
  },
  {
   "cell_type": "code",
   "execution_count": 151,
   "id": "b9862c60-5339-4988-9943-15112d6f43c0",
   "metadata": {},
   "outputs": [
    {
     "name": "stdout",
     "output_type": "stream",
     "text": [
      "my nm s hng\n"
     ]
    }
   ],
   "source": [
    "#3 replace 메소드\n",
    "vowels = 'aeiou'\n",
    "\n",
    "for char in vowels:\n",
    "    words = words.replace(char, '')\n",
    "\n",
    "print(words)"
   ]
  },
  {
   "cell_type": "code",
   "execution_count": 1,
   "id": "57c81368-7c3b-47ed-8ab8-8b951ed1436f",
   "metadata": {},
   "outputs": [],
   "source": [
    "### dictionary 메소드\n"
   ]
  },
  {
   "cell_type": "code",
   "execution_count": 3,
   "id": "6b429789-ee97-40bf-8280-d7066fa1685f",
   "metadata": {},
   "outputs": [],
   "source": [
    "info = {\n",
    "    'name': 'hong',\n",
    "    'locatioin' : 'seoul',\n",
    "    'age' : 20,\n",
    "    'phone_book' : {\n",
    "        'kim' : '010-2169-6118',\n",
    "        'park' : '010-1232-1222'\n",
    "    },\n",
    "    'models' : ['iphone', 'ipad'],\n",
    "}"
   ]
  },
  {
   "cell_type": "code",
   "execution_count": 9,
   "id": "178db4b2-244c-41d4-8641-abfc4f4fe8ef",
   "metadata": {},
   "outputs": [
    {
     "name": "stdout",
     "output_type": "stream",
     "text": [
      "hong\n",
      "20\n",
      "010-1232-1222\n",
      "ipad\n"
     ]
    }
   ],
   "source": [
    "print(info['name'])\n",
    "print(info['age'])\n",
    "print(info['phone_book']['park'])\n",
    "print(info['models'][1])"
   ]
  },
  {
   "cell_type": "code",
   "execution_count": 10,
   "id": "d32568e0-2c76-4eac-acce-05f34f88d806",
   "metadata": {},
   "outputs": [
    {
     "name": "stdout",
     "output_type": "stream",
     "text": [
      "{'name': 'lee', 'locatioin': 'seoul', 'age': 20, 'phone_book': {'kim': '010-2169-6118', 'park': '010-1232-1222'}, 'models': ['iphone', 'ipad']}\n"
     ]
    }
   ],
   "source": [
    "info['name'] = 'lee'\n",
    "print(info)\n"
   ]
  },
  {
   "cell_type": "code",
   "execution_count": 11,
   "id": "0e875278-ac6c-4529-94bb-98068a086d66",
   "metadata": {},
   "outputs": [
    {
     "name": "stdout",
     "output_type": "stream",
     "text": [
      "{'name': 'choi', 'locatioin': 'seoul', 'age': 20, 'phone_book': {'kim': '010-2169-6118', 'park': '010-1232-1222'}, 'models': ['iphone', 'ipad']}\n"
     ]
    }
   ],
   "source": [
    "info.update(name= 'choi')\n",
    "print(info)"
   ]
  },
  {
   "cell_type": "code",
   "execution_count": 14,
   "id": "abc20738-537f-4225-b106-3321c892be2b",
   "metadata": {},
   "outputs": [
    {
     "name": "stdout",
     "output_type": "stream",
     "text": [
      "{'name': 'choi', 'age': 20, 'phone_book': {'kim': '010-2169-6118', 'park': '010-1232-1222'}, 'models': ['iphone', 'ipad']}\n"
     ]
    }
   ],
   "source": [
    "info.pop('locatioin')\n",
    "print(info)\n",
    "\n",
    "# 제거하고 싶을때"
   ]
  },
  {
   "cell_type": "code",
   "execution_count": 16,
   "id": "a76c1065-79cc-4354-8099-645a32b3d4d0",
   "metadata": {},
   "outputs": [
    {
     "name": "stdout",
     "output_type": "stream",
     "text": [
      "choi\n",
      "choi\n"
     ]
    }
   ],
   "source": [
    "print(info.get('name'))\n",
    "print(info['name'])"
   ]
  },
  {
   "cell_type": "code",
   "execution_count": 17,
   "id": "5ece8b83-a27f-43d7-b9af-33af7ede78f7",
   "metadata": {},
   "outputs": [
    {
     "name": "stdout",
     "output_type": "stream",
     "text": [
      "None\n"
     ]
    }
   ],
   "source": [
    "print(info.get('birth'))"
   ]
  },
  {
   "cell_type": "code",
   "execution_count": 18,
   "id": "ae6d885f-84c6-47fd-8e7e-8a0b1bcb7577",
   "metadata": {},
   "outputs": [
    {
     "ename": "KeyError",
     "evalue": "'birth'",
     "output_type": "error",
     "traceback": [
      "\u001b[0;31m---------------------------------------------------------------------------\u001b[0m",
      "\u001b[0;31mKeyError\u001b[0m                                  Traceback (most recent call last)",
      "Cell \u001b[0;32mIn[18], line 1\u001b[0m\n\u001b[0;32m----> 1\u001b[0m \u001b[38;5;28mprint\u001b[39m(\u001b[43minfo\u001b[49m\u001b[43m[\u001b[49m\u001b[38;5;124;43m'\u001b[39;49m\u001b[38;5;124;43mbirth\u001b[39;49m\u001b[38;5;124;43m'\u001b[39;49m\u001b[43m]\u001b[49m)\n",
      "\u001b[0;31mKeyError\u001b[0m: 'birth'"
     ]
    }
   ],
   "source": [
    "print(info['birth'])"
   ]
  },
  {
   "cell_type": "code",
   "execution_count": 24,
   "id": "8f42375d-6d2b-4709-ad66-160a0bb58156",
   "metadata": {},
   "outputs": [
    {
     "name": "stdout",
     "output_type": "stream",
     "text": [
      "{'A': 3, 'B': 2, 'O': 2, 'AB': 4}\n"
     ]
    }
   ],
   "source": [
    "# 연습문제\n",
    "blood_type = ['A', 'B', 'AB', 'AB', 'AB', 'O', 'A', 'A', 'B', 'O', 'AB']\n",
    "\n",
    "result = {\n",
    "    'A': 0,\n",
    "    'B': 0,\n",
    "    'O': 0,\n",
    "    'AB': 0,\n",
    "}\n",
    "\n",
    "for blood in blood_type:\n",
    "    result[blood] += 1\n",
    " \n",
    "print(result)\n",
    "\n",
    "\n",
    "\n",
    "# {'A': 3, 'B' : 2, 'AB' : 4, 'O' :2}"
   ]
  },
  {
   "cell_type": "code",
   "execution_count": 27,
   "id": "28714089-8f6f-4f5a-ae32-abbe0fea6845",
   "metadata": {},
   "outputs": [
    {
     "name": "stdout",
     "output_type": "stream",
     "text": [
      "{'서울': 2, '대전': 2, '부산': 2, 'LA': 1, '파리': 1}\n"
     ]
    }
   ],
   "source": [
    "locations = ['서울', '서울', '대전', '부산', 'LA', '파리', '대전', '부산']\n",
    "result = {}\n",
    "\n",
    "for location in locations:\n",
    "    if location in result.keys():\n",
    "        result[location] += 1\n",
    "\n",
    "    else: \n",
    "        result[location] = 1\n",
    "\n",
    "print(result)\n"
   ]
  },
  {
   "cell_type": "code",
   "execution_count": 29,
   "id": "a7f55f1b-58cb-4a17-9f55-551b7e26d3de",
   "metadata": {},
   "outputs": [
    {
     "name": "stdout",
     "output_type": "stream",
     "text": [
      "{'서울': 2, '대전': 2, '부산': 2, 'LA': 1, '파리': 1}\n"
     ]
    }
   ],
   "source": [
    "locations = ['서울', '서울', '대전', '부산', 'LA', '파리', '대전', '부산']\n",
    "result = {}\n",
    "\n",
    "for location in locations:\n",
    "#for location in locations:\n",
    "    if result.get(location):\n",
    "        result[location] += 1\n",
    "\n",
    "    else: \n",
    "        result[location] = 1\n",
    "\n",
    "print(result)\n"
   ]
  },
  {
   "cell_type": "markdown",
   "id": "8f222128-b16b-4ca4-8c40-5a57d68da3d1",
   "metadata": {},
   "source": [
    "### dict comprehension"
   ]
  },
  {
   "cell_type": "code",
   "execution_count": 40,
   "id": "0fedccd3-ed93-4332-9ee6-af924503782e",
   "metadata": {},
   "outputs": [
    {
     "name": "stdout",
     "output_type": "stream",
     "text": [
      "{1: 1, 2: 8, 3: 27, 4: 64, 5: 125, 6: 216, 7: 343, 8: 512, 9: 729, 10: 1000}\n"
     ]
    }
   ],
   "source": [
    "# {1: 1, 2:8, 3: 27, ... 10: 1000]\n",
    "\n",
    "result = {}\n",
    "numbers = range(1, 11)\n",
    "\n",
    "for number in numbers:\n",
    "    result[number] = number ** 3\n",
    "\n",
    "print(result)"
   ]
  },
  {
   "cell_type": "code",
   "execution_count": 43,
   "id": "bdefcd59-bdd6-4d43-9e23-644c4219e6dc",
   "metadata": {},
   "outputs": [
    {
     "ename": "IndentationError",
     "evalue": "unexpected indent (1508630973.py, line 2)",
     "output_type": "error",
     "traceback": [
      "\u001b[0;36m  Cell \u001b[0;32mIn[43], line 2\u001b[0;36m\u001b[0m\n\u001b[0;31m    result[number] number ** 3\u001b[0m\n\u001b[0m    ^\u001b[0m\n\u001b[0;31mIndentationError\u001b[0m\u001b[0;31m:\u001b[0m unexpected indent\n"
     ]
    }
   ],
   "source": [
    "result = number : numbers\n",
    "{k: v for number in range(1, 11)}\n",
    "        result[number] number ** 3\n",
    "\n",
    "print(result)"
   ]
  },
  {
   "cell_type": "code",
   "execution_count": 44,
   "id": "421f3473-24a0-4d92-bb7e-fd233442ddc6",
   "metadata": {},
   "outputs": [],
   "source": [
    "dust = {\n",
    "    '서울' : 50,\n",
    "    '인천' : 100,\n",
    "    '수원' : 30,\n",
    "    '부산' : 0,\n",
    "}"
   ]
  },
  {
   "cell_type": "code",
   "execution_count": 48,
   "id": "8fe7d552-8a96-4499-8090-921e2692a2e9",
   "metadata": {},
   "outputs": [
    {
     "name": "stdout",
     "output_type": "stream",
     "text": [
      "{'수원': 30, '부산': 0}\n"
     ]
    }
   ],
   "source": [
    "result = {}\n",
    "for key, value in dust.items():\n",
    "    if value <= 30:\n",
    "        result[key] = value\n",
    "print(result)"
   ]
  },
  {
   "cell_type": "code",
   "execution_count": 50,
   "id": "d8929637-0bfc-4a8d-953b-d0903853c580",
   "metadata": {},
   "outputs": [
    {
     "name": "stdout",
     "output_type": "stream",
     "text": [
      "{'수원': 30, '부산': 0}\n"
     ]
    }
   ],
   "source": [
    "#2. comprehension\n",
    "result = {k : v for k, v in dust.items() if v <= 30}\n",
    "print(result)"
   ]
  },
  {
   "cell_type": "markdown",
   "id": "0e2cd556-8151-417c-82c5-4c6cdde02702",
   "metadata": {},
   "source": [
    "### set 메소드"
   ]
  },
  {
   "cell_type": "code",
   "execution_count": 53,
   "id": "e70f68fd-ca95-4f9d-8fc1-e17964d152de",
   "metadata": {},
   "outputs": [],
   "source": [
    "fruits = {'apple', 'banana', 'melon'}"
   ]
  },
  {
   "cell_type": "code",
   "execution_count": 55,
   "id": "7b11ef44-0e42-4def-b68f-3b3bacc5c587",
   "metadata": {},
   "outputs": [
    {
     "name": "stdout",
     "output_type": "stream",
     "text": [
      "{'banana', 'apple', 'melon'}\n"
     ]
    }
   ],
   "source": [
    "print(fruits)"
   ]
  },
  {
   "cell_type": "code",
   "execution_count": 56,
   "id": "052de76d-0fd8-4a83-b1ea-4eb8d6103492",
   "metadata": {},
   "outputs": [
    {
     "name": "stdout",
     "output_type": "stream",
     "text": [
      "{'banana', 'apple', 'watermelon', 'melon'}\n"
     ]
    }
   ],
   "source": [
    "fruits.add('watermelon')\n",
    "print(fruits)"
   ]
  },
  {
   "cell_type": "code",
   "execution_count": 57,
   "id": "b0d2a073-e2e8-4cfd-9254-68782d8566ae",
   "metadata": {},
   "outputs": [
    {
     "name": "stdout",
     "output_type": "stream",
     "text": [
      "{'apple', 'orange', 'grape', 'banana', 'melon', 'watermelon'}\n"
     ]
    }
   ],
   "source": [
    "fruits.update({'orange','grape'})\n",
    "print(fruits)"
   ]
  },
  {
   "cell_type": "code",
   "execution_count": 58,
   "id": "5d524618-9433-4650-8720-22048ccf1313",
   "metadata": {},
   "outputs": [
    {
     "name": "stdout",
     "output_type": "stream",
     "text": [
      "apple\n"
     ]
    }
   ],
   "source": [
    "fruits.remove('apple')\n",
    "print('apple')"
   ]
  },
  {
   "cell_type": "code",
   "execution_count": 59,
   "id": "b7756bbf-93e3-4ca3-9dd6-07f591bbdb8b",
   "metadata": {},
   "outputs": [
    {
     "name": "stdout",
     "output_type": "stream",
     "text": [
      "{'grape', 'banana', 'melon', 'watermelon'}\n"
     ]
    }
   ],
   "source": [
    "fruits.pop()\n",
    "print(fruits)\n",
    "\n",
    "#랜덤하게 무엇하나를 제거함"
   ]
  },
  {
   "cell_type": "markdown",
   "id": "fc35a197-689c-47df-a59d-52accfee099d",
   "metadata": {},
   "source": [
    "### map, filter, zip"
   ]
  },
  {
   "cell_type": "markdown",
   "id": "af800e2e-ef91-42ec-96a8-d943fa124b85",
   "metadata": {},
   "source": [
    "## map\n",
    "- map(function, iterable)\n",
    "      - iterable => 시퀀스타입"
   ]
  },
  {
   "cell_type": "code",
   "execution_count": 62,
   "id": "5378fa62-50c8-4719-b125-2596b93421cd",
   "metadata": {},
   "outputs": [
    {
     "name": "stdout",
     "output_type": "stream",
     "text": [
      "['1', '2', '3', '4', '5', '6']\n"
     ]
    }
   ],
   "source": [
    "numbers = [1, 2, 3, 4, 5, 6]\n",
    "# => ['1', '2', '3', '4', '5', '6',]\n",
    "\n",
    "result = []\n",
    "for number in numbers:\n",
    "    result.append(str(number))\n",
    "print(result)"
   ]
  },
  {
   "cell_type": "code",
   "execution_count": 66,
   "id": "c169d2c1-71eb-4460-ad25-fa37ed1a2696",
   "metadata": {},
   "outputs": [
    {
     "name": "stdout",
     "output_type": "stream",
     "text": [
      "['1', '2', '3', '4', '5', '6']\n"
     ]
    }
   ],
   "source": [
    "result = map(str, numbers)\n",
    "print(list(result))"
   ]
  },
  {
   "cell_type": "code",
   "execution_count": 69,
   "id": "83a41c02-0334-47a1-9a62-13dd7eb78103",
   "metadata": {},
   "outputs": [
    {
     "name": "stdout",
     "output_type": "stream",
     "text": [
      "[1, 8, 27, 64, 125, 216]\n"
     ]
    }
   ],
   "source": [
    "number = [1, 2, 3, 4, 5]\n",
    "# -> [1, 8, 29, 64, 125]\n",
    "\n",
    "result = []\n",
    "for number in numbers:\n",
    "    result.append(number ** 3)\n",
    "\n",
    "print(result)"
   ]
  },
  {
   "cell_type": "code",
   "execution_count": 75,
   "id": "ad7ab03d-7f1b-443d-b1e3-d3ecef754bb4",
   "metadata": {},
   "outputs": [
    {
     "ename": "_IncompleteInputError",
     "evalue": "incomplete input (1056489031.py, line 4)",
     "output_type": "error",
     "traceback": [
      "\u001b[0;36m  Cell \u001b[0;32mIn[75], line 4\u001b[0;36m\u001b[0m\n\u001b[0;31m    print(list(resutlt)\u001b[0m\n\u001b[0m                       ^\u001b[0m\n\u001b[0;31m_IncompleteInputError\u001b[0m\u001b[0;31m:\u001b[0m incomplete input\n"
     ]
    }
   ],
   "source": [
    "def cube(x):\n",
    "    return x ** 3\n",
    "\n",
    "print(list(resutlt)"
   ]
  },
  {
   "cell_type": "code",
   "execution_count": 73,
   "id": "72373bd6-0c91-490b-b7e0-24256924d10d",
   "metadata": {},
   "outputs": [
    {
     "ename": "NameError",
     "evalue": "name 'cube' is not defined",
     "output_type": "error",
     "traceback": [
      "\u001b[0;31m---------------------------------------------------------------------------\u001b[0m",
      "\u001b[0;31mNameError\u001b[0m                                 Traceback (most recent call last)",
      "Cell \u001b[0;32mIn[73], line 1\u001b[0m\n\u001b[0;32m----> 1\u001b[0m result \u001b[38;5;241m=\u001b[39m \u001b[38;5;28mmap\u001b[39m(\u001b[43mcube\u001b[49m, numbers)\n\u001b[1;32m      2\u001b[0m \u001b[38;5;28mprint\u001b[39m(result)\n\u001b[1;32m      3\u001b[0m \u001b[38;5;28mprint\u001b[39m(\u001b[38;5;28mlist\u001b[39m(result))\n",
      "\u001b[0;31mNameError\u001b[0m: name 'cube' is not defined"
     ]
    }
   ],
   "source": [
    "result = map(cube, numbers)\n",
    "print(result)\n",
    "print(list(result))"
   ]
  },
  {
   "cell_type": "code",
   "execution_count": 84,
   "id": "3c0ed74a-d39d-43fd-b485-c0ac5dfe9196",
   "metadata": {},
   "outputs": [
    {
     "name": "stdout",
     "output_type": "stream",
     "text": [
      "[1, 3, 5, 7, 9]\n"
     ]
    }
   ],
   "source": [
    "test_input = '1 3 5 7 9'\n",
    "#띄어쓰기\n",
    "int,(test_input.split())\n",
    "\n",
    "result = list(map(int,(test_input.split())))\n",
    "\n",
    "print(result)"
   ]
  },
  {
   "cell_type": "markdown",
   "id": "d6f61537-6461-431b-afd4-fcd57464d9da",
   "metadata": {},
   "source": [
    "### filter\n",
    "\n",
    "    - filger(function, iterable)"
   ]
  },
  {
   "cell_type": "code",
   "execution_count": 88,
   "id": "6189bf8e-2281-496d-b835-248cc6c7b0c1",
   "metadata": {},
   "outputs": [
    {
     "name": "stdout",
     "output_type": "stream",
     "text": [
      "[1, 3, 5]\n"
     ]
    }
   ],
   "source": [
    "numbers = [1, 2, 3, 4, 5, 6]\n",
    "\n",
    "result = []\n",
    "for number in numbers:\n",
    "    if number % 2 ==1:\n",
    "        result.append(number)\n",
    "print(result)"
   ]
  },
  {
   "cell_type": "code",
   "execution_count": 85,
   "id": "9e19b840-d72a-4e29-bcea-4d92c137e0d6",
   "metadata": {},
   "outputs": [],
   "source": [
    "def is_odd(x):\n",
    "    return x % 2"
   ]
  },
  {
   "cell_type": "code",
   "execution_count": 90,
   "id": "9ac52480-bf30-46c5-85a0-5683b7d2b6a0",
   "metadata": {},
   "outputs": [
    {
     "name": "stdout",
     "output_type": "stream",
     "text": [
      "<filter object at 0x107cc2080>\n",
      "[1, 3, 5]\n"
     ]
    }
   ],
   "source": [
    "result = filter(is_odd, numbers)\n",
    "print(result)\n",
    "print(list(result))"
   ]
  },
  {
   "cell_type": "markdown",
   "id": "12d3aacc-b389-474f-a1b1-1a49e262fd56",
   "metadata": {},
   "source": [
    "### zip"
   ]
  },
  {
   "cell_type": "code",
   "execution_count": 91,
   "id": "d07f18ff-fd89-4878-8fd3-2b8b9a5c6f02",
   "metadata": {},
   "outputs": [
    {
     "name": "stdout",
     "output_type": "stream",
     "text": [
      "<zip object at 0x107eb27c0>\n",
      "[(1, 100), (2, 200), (3, 300)]\n"
     ]
    }
   ],
   "source": [
    "a = [1,2,3]\n",
    "b = [100, 200, 300]\n",
    "\n",
    "result = zip(a,b)\n",
    "print(result)\n",
    "print(list(result))"
   ]
  },
  {
   "cell_type": "code",
   "execution_count": null,
   "id": "5ec09ffa-edef-4e0b-81ff-26653da59ea9",
   "metadata": {},
   "outputs": [],
   "source": []
  }
 ],
 "metadata": {
  "kernelspec": {
   "display_name": "Python 3 (ipykernel)",
   "language": "python",
   "name": "python3"
  },
  "language_info": {
   "codemirror_mode": {
    "name": "ipython",
    "version": 3
   },
   "file_extension": ".py",
   "mimetype": "text/x-python",
   "name": "python",
   "nbconvert_exporter": "python",
   "pygments_lexer": "ipython3",
   "version": "3.13.2"
  }
 },
 "nbformat": 4,
 "nbformat_minor": 5
}

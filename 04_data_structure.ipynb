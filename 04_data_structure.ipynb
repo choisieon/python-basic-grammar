{
 "cells": [
  {
   "cell_type": "markdown",
   "id": "5cf6f607-4fc6-453b-947f-7b7905b0b2e3",
   "metadata": {},
   "source": [
    "### 자료구조\n",
    "> 여러가지 자료구조가 가지고 있는 메소드(함수) 알아보기"
   ]
  },
  {
   "cell_type": "code",
   "execution_count": 1,
   "id": "e7840f37-b718-44a5-bf25-ff3a348c0648",
   "metadata": {},
   "outputs": [
    {
     "name": "stdout",
     "output_type": "stream",
     "text": [
      "['__add__', '__class__', '__contains__', '__delattr__', '__dir__', '__doc__', '__eq__', '__format__', '__ge__', '__getattribute__', '__getitem__', '__getnewargs__', '__getstate__', '__gt__', '__hash__', '__init__', '__init_subclass__', '__iter__', '__le__', '__len__', '__lt__', '__mod__', '__mul__', '__ne__', '__new__', '__reduce__', '__reduce_ex__', '__repr__', '__rmod__', '__rmul__', '__setattr__', '__sizeof__', '__str__', '__subclasshook__', 'capitalize', 'casefold', 'center', 'count', 'encode', 'endswith', 'expandtabs', 'find', 'format', 'format_map', 'index', 'isalnum', 'isalpha', 'isascii', 'isdecimal', 'isdigit', 'isidentifier', 'islower', 'isnumeric', 'isprintable', 'isspace', 'istitle', 'isupper', 'join', 'ljust', 'lower', 'lstrip', 'maketrans', 'partition', 'removeprefix', 'removesuffix', 'replace', 'rfind', 'rindex', 'rjust', 'rpartition', 'rsplit', 'rstrip', 'split', 'splitlines', 'startswith', 'strip', 'swapcase', 'title', 'translate', 'upper', 'zfill']\n"
     ]
    }
   ],
   "source": [
    "print(dir('hello'))"
   ]
  },
  {
   "cell_type": "markdown",
   "id": "a474b02a-93c7-4047-9eef-9809c5f52016",
   "metadata": {},
   "source": [
    "### 문자열 메소드"
   ]
  },
  {
   "cell_type": "code",
   "execution_count": 20,
   "id": "863cc6df-f2bc-4d5d-a80d-28eecf6f384a",
   "metadata": {},
   "outputs": [],
   "source": [
    "a = 'hello my name is choi'"
   ]
  },
  {
   "cell_type": "code",
   "execution_count": 21,
   "id": "5c53988d-d7ff-463e-af0a-9d60cc62df56",
   "metadata": {},
   "outputs": [
    {
     "name": "stdout",
     "output_type": "stream",
     "text": [
      "hello my name is choi\n"
     ]
    }
   ],
   "source": [
    "print(a)"
   ]
  },
  {
   "cell_type": "code",
   "execution_count": 22,
   "id": "77988e68-c18f-4fc5-b848-8ec38824755f",
   "metadata": {},
   "outputs": [
    {
     "ename": "TypeError",
     "evalue": "'str' object does not support item assignment",
     "output_type": "error",
     "traceback": [
      "\u001b[0;31m---------------------------------------------------------------------------\u001b[0m",
      "\u001b[0;31mTypeError\u001b[0m                                 Traceback (most recent call last)",
      "Cell \u001b[0;32mIn[22], line 1\u001b[0m\n\u001b[0;32m----> 1\u001b[0m \u001b[43ma\u001b[49m\u001b[43m[\u001b[49m\u001b[38;5;241;43m0\u001b[39;49m\u001b[43m]\u001b[49m \u001b[38;5;241m=\u001b[39m \u001b[38;5;124m'\u001b[39m\u001b[38;5;124mH\u001b[39m\u001b[38;5;124m'\u001b[39m\n",
      "\u001b[0;31mTypeError\u001b[0m: 'str' object does not support item assignment"
     ]
    }
   ],
   "source": [
    "a[0] = 'H'"
   ]
  },
  {
   "cell_type": "code",
   "execution_count": 23,
   "id": "69b4d189-4ac2-49a0-95fa-033e4aa7020a",
   "metadata": {},
   "outputs": [
    {
     "name": "stdout",
     "output_type": "stream",
     "text": [
      "Hello my name is choi\n",
      "hello my name is choi\n"
     ]
    }
   ],
   "source": [
    "a.capitalize()\n",
    "print(a.capitalize())\n",
    "print(a)\n",
    "\n",
    "# 원본이 바뀌는게 아닌, 함수로 리턴값을 만든 것"
   ]
  },
  {
   "cell_type": "code",
   "execution_count": 24,
   "id": "45a7e8c3-794a-407f-989f-e8cdd977991c",
   "metadata": {},
   "outputs": [
    {
     "data": {
      "text/plain": [
       "'Hello My Name Is Choi'"
      ]
     },
     "execution_count": 24,
     "metadata": {},
     "output_type": "execute_result"
    }
   ],
   "source": [
    "a. title()"
   ]
  },
  {
   "cell_type": "code",
   "execution_count": 25,
   "id": "dde59382-aaf4-4702-9d62-5e1eacbab4ad",
   "metadata": {},
   "outputs": [
    {
     "data": {
      "text/plain": [
       "'hello my name is choi'"
      ]
     },
     "execution_count": 25,
     "metadata": {},
     "output_type": "execute_result"
    }
   ],
   "source": [
    "a. lower()"
   ]
  },
  {
   "cell_type": "code",
   "execution_count": 26,
   "id": "05b2fcb7-5665-41e4-9175-92cbac62559d",
   "metadata": {},
   "outputs": [
    {
     "data": {
      "text/plain": [
       "'HELLO MY NAME IS CHOI'"
      ]
     },
     "execution_count": 26,
     "metadata": {},
     "output_type": "execute_result"
    }
   ],
   "source": [
    "a. upper()"
   ]
  },
  {
   "cell_type": "code",
   "execution_count": 28,
   "id": "292b092c-bd69-4189-8eff-1120c0c90b56",
   "metadata": {},
   "outputs": [
    {
     "data": {
      "text/plain": [
       "'my!name!is'"
      ]
     },
     "execution_count": 28,
     "metadata": {},
     "output_type": "execute_result"
    }
   ],
   "source": [
    "my_list = ['my', 'name', 'is']\n",
    "'!'.join(my_list)\n"
   ]
  },
  {
   "cell_type": "code",
   "execution_count": 29,
   "id": "abd6ee94-de16-4e28-8e7c-cac86b4bfbb4",
   "metadata": {},
   "outputs": [
    {
     "data": {
      "text/plain": [
       "'배?고?프?다'"
      ]
     },
     "execution_count": 29,
     "metadata": {},
     "output_type": "execute_result"
    }
   ],
   "source": [
    "'?'.join('배고프다')"
   ]
  },
  {
   "cell_type": "code",
   "execution_count": 33,
   "id": "ef7bda7a-32c3-47bc-9d0e-9761fa6ade56",
   "metadata": {},
   "outputs": [
    {
     "data": {
      "text/plain": [
       "'hello'"
      ]
     },
     "execution_count": 33,
     "metadata": {},
     "output_type": "execute_result"
    }
   ],
   "source": [
    "a = ' \\t   hello \\n'\n",
    "a.strip()"
   ]
  },
  {
   "cell_type": "code",
   "execution_count": 34,
   "id": "42042b43-ac20-43fb-b0ef-30c46aaaa5d3",
   "metadata": {},
   "outputs": [
    {
     "data": {
      "text/plain": [
       "'hello??????????'"
      ]
     },
     "execution_count": 34,
     "metadata": {},
     "output_type": "execute_result"
    }
   ],
   "source": [
    "a = '!!!!!!!!!!!hello??????????'\n",
    "a.strip('!')\n",
    "\n",
    "# def strip(char=' ')"
   ]
  },
  {
   "cell_type": "code",
   "execution_count": 35,
   "id": "6fe672d5-aa7b-4c1a-866a-1eac3a4edd0c",
   "metadata": {},
   "outputs": [
    {
     "data": {
      "text/plain": [
       "'hello-----'"
      ]
     },
     "execution_count": 35,
     "metadata": {},
     "output_type": "execute_result"
    }
   ],
   "source": [
    "a = '-------hello-----'\n",
    "a.lstrip('-')\n",
    "\n",
    "# rstirp"
   ]
  },
  {
   "cell_type": "code",
   "execution_count": 47,
   "id": "380db4a5-b365-47e1-b955-2e311d21edaf",
   "metadata": {},
   "outputs": [
    {
     "data": {
      "text/plain": [
       "'w!!!ooooow'"
      ]
     },
     "execution_count": 47,
     "metadata": {},
     "output_type": "execute_result"
    }
   ],
   "source": [
    "a = 'woooooooow'\n",
    "a.replace('o','!', 3)"
   ]
  },
  {
   "cell_type": "code",
   "execution_count": 48,
   "id": "894bda2e-297a-4c28-8627-3969205d174d",
   "metadata": {},
   "outputs": [
    {
     "data": {
      "text/plain": [
       "-1"
      ]
     },
     "execution_count": 48,
     "metadata": {},
     "output_type": "execute_result"
    }
   ],
   "source": [
    "a = 'apple'\n",
    "a. find('a')\n",
    "a. find('l')\n",
    "a. find('p')\n",
    "a. find('z')"
   ]
  },
  {
   "cell_type": "code",
   "execution_count": 50,
   "id": "f802402b-2417-484d-b3a6-253b5b948ef2",
   "metadata": {},
   "outputs": [
    {
     "data": {
      "text/plain": [
       "1"
      ]
     },
     "execution_count": 50,
     "metadata": {},
     "output_type": "execute_result"
    }
   ],
   "source": [
    "a = 'apple'\n",
    "a. index('a')\n",
    "a. index('l')\n",
    "a. index('p')"
   ]
  },
  {
   "cell_type": "code",
   "execution_count": 51,
   "id": "363b1ceb-f79b-4493-ade3-d75bcee29549",
   "metadata": {},
   "outputs": [
    {
     "data": {
      "text/plain": [
       "['my', 'name', 'is', 'choi']"
      ]
     },
     "execution_count": 51,
     "metadata": {},
     "output_type": "execute_result"
    }
   ],
   "source": [
    "a = 'my name is choi'\n",
    "a.split()"
   ]
  },
  {
   "cell_type": "code",
   "execution_count": 53,
   "id": "daa501c6-6227-49ae-b42c-94ced878f85a",
   "metadata": {},
   "outputs": [
    {
     "data": {
      "text/plain": [
       "['my', 'name', 'is', 'choi']"
      ]
     },
     "execution_count": 53,
     "metadata": {},
     "output_type": "execute_result"
    }
   ],
   "source": [
    "a = 'my!name!is!choi'\n",
    "a.split('!')"
   ]
  },
  {
   "cell_type": "code",
   "execution_count": null,
   "id": "61aceef5-2893-4747-bd68-6a334cba1167",
   "metadata": {},
   "outputs": [],
   "source": [
    "a = 'wooooooow"
   ]
  }
 ],
 "metadata": {
  "kernelspec": {
   "display_name": "Python 3 (ipykernel)",
   "language": "python",
   "name": "python3"
  },
  "language_info": {
   "codemirror_mode": {
    "name": "ipython",
    "version": 3
   },
   "file_extension": ".py",
   "mimetype": "text/x-python",
   "name": "python",
   "nbconvert_exporter": "python",
   "pygments_lexer": "ipython3",
   "version": "3.13.2"
  }
 },
 "nbformat": 4,
 "nbformat_minor": 5
}

{
 "cells": [
  {
   "cell_type": "code",
   "execution_count": 1,
   "id": "a1ae8ac6-7dc0-424e-b5e2-9663765b2015",
   "metadata": {},
   "outputs": [],
   "source": [
    "a = 10000"
   ]
  },
  {
   "cell_type": "code",
   "execution_count": 2,
   "id": "9ef8e8d2-072c-4257-a155-535bc5abec24",
   "metadata": {},
   "outputs": [
    {
     "data": {
      "text/plain": [
       "int"
      ]
     },
     "execution_count": 2,
     "metadata": {},
     "output_type": "execute_result"
    }
   ],
   "source": [
    "type(a)"
   ]
  },
  {
   "cell_type": "code",
   "execution_count": 3,
   "id": "9c6bb442-2fd0-49b4-936a-a703289d5b6e",
   "metadata": {},
   "outputs": [],
   "source": [
    "b = 1.1"
   ]
  },
  {
   "cell_type": "code",
   "execution_count": 4,
   "id": "1d53e726-2517-4aa2-876a-5a832e7a24ec",
   "metadata": {},
   "outputs": [
    {
     "data": {
      "text/plain": [
       "float"
      ]
     },
     "execution_count": 4,
     "metadata": {},
     "output_type": "execute_result"
    }
   ],
   "source": [
    "type(b)"
   ]
  },
  {
   "cell_type": "code",
   "execution_count": 6,
   "id": "87f9dd59-e87c-47c1-b658-ed6a1c267bb0",
   "metadata": {},
   "outputs": [],
   "source": [
    "c = 1+1j"
   ]
  },
  {
   "cell_type": "code",
   "execution_count": 7,
   "id": "5d683d10-bd13-4a8c-8b79-c282acaebec6",
   "metadata": {},
   "outputs": [
    {
     "data": {
      "text/plain": [
       "complex"
      ]
     },
     "execution_count": 7,
     "metadata": {},
     "output_type": "execute_result"
    }
   ],
   "source": [
    "type(c)"
   ]
  },
  {
   "cell_type": "code",
   "execution_count": 13,
   "id": "e134c546-725e-4860-8729-7d6543e015b3",
   "metadata": {},
   "outputs": [
    {
     "name": "stdout",
     "output_type": "stream",
     "text": [
      "hello\n",
      " my name is 'sieon'\n"
     ]
    }
   ],
   "source": [
    "print('hello\\n my name is \\'sieon\\'')"
   ]
  },
  {
   "cell_type": "code",
   "execution_count": 14,
   "id": "f8d68374-f281-42cb-99f8-9bcef16b0625",
   "metadata": {},
   "outputs": [],
   "source": [
    "age = 10"
   ]
  },
  {
   "cell_type": "code",
   "execution_count": 20,
   "id": "63c24e79-8a59-44fd-a977-fcd6c194bc67",
   "metadata": {},
   "outputs": [
    {
     "data": {
      "text/plain": [
       "'나는 10살입니다.'"
      ]
     },
     "execution_count": 20,
     "metadata": {},
     "output_type": "execute_result"
    }
   ],
   "source": [
    "('나는 %s살입니다.' % age)"
   ]
  },
  {
   "cell_type": "code",
   "execution_count": 23,
   "id": "86554d90-1915-4fd9-89ca-c3a9c92fcefc",
   "metadata": {},
   "outputs": [
    {
     "data": {
      "text/plain": [
       "'나는 10살입니다.'"
      ]
     },
     "execution_count": 23,
     "metadata": {},
     "output_type": "execute_result"
    }
   ],
   "source": [
    "('나는 {}살입니다.' .format(age))"
   ]
  },
  {
   "cell_type": "code",
   "execution_count": 24,
   "id": "8bdf757c-9b28-4416-9fdf-101f2ff30465",
   "metadata": {},
   "outputs": [
    {
     "data": {
      "text/plain": [
       "'나는 10살입니다.'"
      ]
     },
     "execution_count": 24,
     "metadata": {},
     "output_type": "execute_result"
    }
   ],
   "source": [
    "(f'나는 {age}살입니다.')"
   ]
  },
  {
   "cell_type": "code",
   "execution_count": 27,
   "id": "8a8d51a4-3448-4cf8-966e-d571ebb757db",
   "metadata": {},
   "outputs": [],
   "source": [
    "a=1\n",
    "b='반'"
   ]
  },
  {
   "cell_type": "code",
   "execution_count": 30,
   "id": "69993c65-0cc7-4eef-96cf-4780095580db",
   "metadata": {},
   "outputs": [
    {
     "name": "stdout",
     "output_type": "stream",
     "text": [
      "1반\n"
     ]
    }
   ],
   "source": [
    "print(str(a)+(b))"
   ]
  },
  {
   "cell_type": "code",
   "execution_count": 33,
   "id": "25fa4050-51fa-4b61-bfaa-aa47bce3899b",
   "metadata": {},
   "outputs": [],
   "source": [
    "\n",
    "my_list = ['a', 'b', 'c', 'd', 'e']\n",
    "my_tuple = (6, 7, 8, 9, 10)\n",
    "my_range = range(5)\n",
    "my_string = '가나다라마'"
   ]
  },
  {
   "cell_type": "code",
   "execution_count": 34,
   "id": "9e7afbfd-34f7-43a6-a334-aad878fa6554",
   "metadata": {},
   "outputs": [
    {
     "name": "stdout",
     "output_type": "stream",
     "text": [
      "['a', 'b', 'c', 'd', 'e', 1, 2, 3, 4, 5]\n"
     ]
    }
   ],
   "source": [
    "print(my_list + [1, 2, 3, 4, 5])"
   ]
  },
  {
   "cell_type": "code",
   "execution_count": 35,
   "id": "1b57edcd-8eb0-4d1d-83c5-202ac5fb5a45",
   "metadata": {},
   "outputs": [],
   "source": [
    "my_info = {\n",
    "    'name': 'changhee',\n",
    "    'location': 'seoul',\n",
    "    'age': 10,\n",
    "    'skill': ['python', 'git']\n",
    "}"
   ]
  },
  {
   "cell_type": "code",
   "execution_count": 36,
   "id": "6a733a0a-b039-409c-9f1c-3e620d5ef2cc",
   "metadata": {},
   "outputs": [
    {
     "data": {
      "text/plain": [
       "'python'"
      ]
     },
     "execution_count": 36,
     "metadata": {},
     "output_type": "execute_result"
    }
   ],
   "source": [
    "my_info['skill'][0]"
   ]
  },
  {
   "cell_type": "code",
   "execution_count": 37,
   "id": "046cf048-6dd8-48ca-b385-7224e25df22c",
   "metadata": {},
   "outputs": [
    {
     "name": "stdin",
     "output_type": "stream",
     "text": [
      " aasdf\n"
     ]
    },
    {
     "name": "stdout",
     "output_type": "stream",
     "text": [
      "aasdf\n",
      "sib\n"
     ]
    }
   ],
   "source": [
    "my_string = input()\n",
    "print(my_string)\n",
    "\n",
    "if my_string == '12/25':\n",
    "    print('dk')\n",
    "\n",
    "else:\n",
    "    print('sib')\n"
   ]
  },
  {
   "cell_type": "code",
   "execution_count": 38,
   "id": "d7c1b102-3bad-4f3a-b4a3-ae98c6de8016",
   "metadata": {},
   "outputs": [
    {
     "name": "stdin",
     "output_type": "stream",
     "text": [
      " 123\n"
     ]
    },
    {
     "name": "stdout",
     "output_type": "stream",
     "text": [
      "odd\n"
     ]
    }
   ],
   "source": [
    "num = int(input())\n",
    "\n",
    "if num % 2 == 1:\n",
    "    print('odd')\n",
    "else:\n",
    "    print('even')"
   ]
  },
  {
   "cell_type": "code",
   "execution_count": null,
   "id": "b052d3f1-213f-4a8a-9bf4-edb20a3c388e",
   "metadata": {},
   "outputs": [],
   "source": []
  }
 ],
 "metadata": {
  "kernelspec": {
   "display_name": "Python 3 (ipykernel)",
   "language": "python",
   "name": "python3"
  },
  "language_info": {
   "codemirror_mode": {
    "name": "ipython",
    "version": 3
   },
   "file_extension": ".py",
   "mimetype": "text/x-python",
   "name": "python",
   "nbconvert_exporter": "python",
   "pygments_lexer": "ipython3",
   "version": "3.13.2"
  }
 },
 "nbformat": 4,
 "nbformat_minor": 5
}

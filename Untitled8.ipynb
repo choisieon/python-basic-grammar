{
 "cells": [
  {
   "cell_type": "code",
   "execution_count": 1,
   "id": "14d7fe89-a089-4560-827f-ab103c33ad39",
   "metadata": {},
   "outputs": [],
   "source": [
    "a = '''\n",
    "hello\n",
    "world\n",
    "hi\n",
    "'''"
   ]
  },
  {
   "cell_type": "code",
   "execution_count": 2,
   "id": "1eb6e30e-96bc-4310-a933-6046fe831891",
   "metadata": {},
   "outputs": [
    {
     "data": {
      "text/plain": [
       "'\\nhello\\nworld\\nhi\\n'"
      ]
     },
     "execution_count": 2,
     "metadata": {},
     "output_type": "execute_result"
    }
   ],
   "source": [
    "a"
   ]
  },
  {
   "cell_type": "code",
   "execution_count": 5,
   "id": "bc0a751a-8091-4e37-8a76-817a887d5e75",
   "metadata": {},
   "outputs": [],
   "source": [
    "age = 10\n",
    "b = '나는 a살 입니다.'"
   ]
  },
  {
   "cell_type": "code",
   "execution_count": 6,
   "id": "ee02880e-cb51-42b7-8f5a-6bc0108a4cc9",
   "metadata": {},
   "outputs": [
    {
     "data": {
      "text/plain": [
       "'나는 10살 입니다.'"
      ]
     },
     "execution_count": 6,
     "metadata": {},
     "output_type": "execute_result"
    }
   ],
   "source": [
    "('나는 %s살 입니다.' %age)"
   ]
  },
  {
   "cell_type": "code",
   "execution_count": 13,
   "id": "e18b6631-b7e5-4858-8245-96db4a04a115",
   "metadata": {},
   "outputs": [
    {
     "data": {
      "text/plain": [
       "'나는 10살 입니다.'"
      ]
     },
     "execution_count": 13,
     "metadata": {},
     "output_type": "execute_result"
    }
   ],
   "source": [
    "('나는 {}살 입니다.' .format(age))"
   ]
  },
  {
   "cell_type": "code",
   "execution_count": 9,
   "id": "12086a79-af9b-4212-a191-534e1162f972",
   "metadata": {},
   "outputs": [
    {
     "data": {
      "text/plain": [
       "'나는 10살 입니다.'"
      ]
     },
     "execution_count": 9,
     "metadata": {},
     "output_type": "execute_result"
    }
   ],
   "source": [
    "(f'나는 {age}살 입니다.')"
   ]
  },
  {
   "cell_type": "code",
   "execution_count": 14,
   "id": "f904e35a-8541-4b2a-b09a-39fc08426d77",
   "metadata": {},
   "outputs": [
    {
     "data": {
      "text/plain": [
       "8"
      ]
     },
     "execution_count": 14,
     "metadata": {},
     "output_type": "execute_result"
    }
   ],
   "source": [
    "2 ** 3"
   ]
  },
  {
   "cell_type": "code",
   "execution_count": 15,
   "id": "6a1fa726-60cd-4e4b-8c90-872d6abf0ded",
   "metadata": {},
   "outputs": [
    {
     "data": {
      "text/plain": [
       "2"
      ]
     },
     "execution_count": 15,
     "metadata": {},
     "output_type": "execute_result"
    }
   ],
   "source": [
    "4 // 2"
   ]
  },
  {
   "cell_type": "code",
   "execution_count": 16,
   "id": "1079669a-7bd2-47e2-af69-ae8a91e8225a",
   "metadata": {},
   "outputs": [
    {
     "data": {
      "text/plain": [
       "4"
      ]
     },
     "execution_count": 16,
     "metadata": {},
     "output_type": "execute_result"
    }
   ],
   "source": [
    "8 // 2"
   ]
  },
  {
   "cell_type": "code",
   "execution_count": 17,
   "id": "cd2f55e3-b041-4d6e-969b-fd160ed6df99",
   "metadata": {},
   "outputs": [
    {
     "data": {
      "text/plain": [
       "4.0"
      ]
     },
     "execution_count": 17,
     "metadata": {},
     "output_type": "execute_result"
    }
   ],
   "source": [
    "8 / 2"
   ]
  },
  {
   "cell_type": "code",
   "execution_count": 19,
   "id": "8f4c07fb-7319-4021-957b-5fbc789908f2",
   "metadata": {},
   "outputs": [
    {
     "data": {
      "text/plain": [
       "0"
      ]
     },
     "execution_count": 19,
     "metadata": {},
     "output_type": "execute_result"
    }
   ],
   "source": [
    "8 % 2"
   ]
  },
  {
   "cell_type": "code",
   "execution_count": 20,
   "id": "26cff196-a760-4dc4-a7cb-d26f9b9a1f63",
   "metadata": {},
   "outputs": [],
   "source": [
    "result = divmod(8, 2)"
   ]
  },
  {
   "cell_type": "code",
   "execution_count": 21,
   "id": "e4ad1959-d412-4772-ac32-b7f091713e2f",
   "metadata": {},
   "outputs": [
    {
     "data": {
      "text/plain": [
       "(4, 0)"
      ]
     },
     "execution_count": 21,
     "metadata": {},
     "output_type": "execute_result"
    }
   ],
   "source": [
    "result"
   ]
  },
  {
   "cell_type": "code",
   "execution_count": 22,
   "id": "6e9505d9-1754-4d4e-9cfb-5fc81856fee8",
   "metadata": {},
   "outputs": [
    {
     "name": "stdout",
     "output_type": "stream",
     "text": [
      "5\n",
      "0\n",
      "0\n",
      "0\n"
     ]
    }
   ],
   "source": [
    "print(3 and 5)\n",
    "print(3 and 0)\n",
    "print(0 and 5)\n",
    "print(0 and 0)"
   ]
  },
  {
   "cell_type": "code",
   "execution_count": 23,
   "id": "8ab6c416-ab51-4cc7-b137-2c551b99e5a2",
   "metadata": {},
   "outputs": [
    {
     "name": "stdout",
     "output_type": "stream",
     "text": [
      "3\n",
      "3\n",
      "5\n",
      "0\n"
     ]
    }
   ],
   "source": [
    "print(3 or 5)\n",
    "print(3 or 0)\n",
    "print(0 or 5)\n",
    "print(0 or 0)"
   ]
  },
  {
   "cell_type": "code",
   "execution_count": 45,
   "id": "421c6f10-cf3c-414b-b606-db2b1a29fda1",
   "metadata": {},
   "outputs": [],
   "source": [
    "a = 2\n",
    "b = 4"
   ]
  },
  {
   "cell_type": "code",
   "execution_count": 46,
   "id": "eb0fda45-9508-4121-9ca8-62d8b7f3f144",
   "metadata": {},
   "outputs": [],
   "source": [
    "a **= b"
   ]
  },
  {
   "cell_type": "code",
   "execution_count": 47,
   "id": "5103ceec-3707-421e-b43a-b57e97c41f8d",
   "metadata": {},
   "outputs": [
    {
     "data": {
      "text/plain": [
       "16"
      ]
     },
     "execution_count": 47,
     "metadata": {},
     "output_type": "execute_result"
    }
   ],
   "source": [
    "a"
   ]
  },
  {
   "cell_type": "code",
   "execution_count": 48,
   "id": "2c3c5cb0-b1e0-4a3d-b95b-399f7cf42fba",
   "metadata": {},
   "outputs": [],
   "source": [
    "a = [1,2,3]\n",
    "b = [2,3,4]"
   ]
  },
  {
   "cell_type": "raw",
   "id": "2a6493a7-e92d-48de-a39c-ad16a9d50d80",
   "metadata": {},
   "source": []
  },
  {
   "cell_type": "code",
   "execution_count": 49,
   "id": "78e9308f-d894-4615-b55b-375734d8cb35",
   "metadata": {},
   "outputs": [
    {
     "name": "stdout",
     "output_type": "stream",
     "text": [
      "[1, 2, 3, 2, 3, 4]\n"
     ]
    }
   ],
   "source": [
    "print(a+b)"
   ]
  },
  {
   "cell_type": "code",
   "execution_count": 50,
   "id": "2d70e560-d0ac-43ef-8ae5-8e593b6bc2f8",
   "metadata": {},
   "outputs": [],
   "source": [
    "a = 257\n",
    "b = 257"
   ]
  },
  {
   "cell_type": "code",
   "execution_count": 51,
   "id": "00b7a386-d44e-45e2-971c-9a3c5126a10a",
   "metadata": {},
   "outputs": [
    {
     "data": {
      "text/plain": [
       "True"
      ]
     },
     "execution_count": 51,
     "metadata": {},
     "output_type": "execute_result"
    }
   ],
   "source": [
    "a == b"
   ]
  },
  {
   "cell_type": "code",
   "execution_count": 52,
   "id": "6e023dc9-ca90-4c53-85ad-6924ba0b4d11",
   "metadata": {},
   "outputs": [
    {
     "data": {
      "text/plain": [
       "False"
      ]
     },
     "execution_count": 52,
     "metadata": {},
     "output_type": "execute_result"
    }
   ],
   "source": [
    "a is b"
   ]
  },
  {
   "cell_type": "code",
   "execution_count": 53,
   "id": "147d3bac-7f7c-4b3e-9fef-ff4e4efe8048",
   "metadata": {},
   "outputs": [],
   "source": [
    "a = True\n",
    "b = False\n",
    "c = 1"
   ]
  },
  {
   "cell_type": "code",
   "execution_count": 54,
   "id": "50c64a4e-a173-408b-9ad0-3e1914967106",
   "metadata": {},
   "outputs": [
    {
     "name": "stdout",
     "output_type": "stream",
     "text": [
      "1\n",
      "2\n"
     ]
    }
   ],
   "source": [
    "print(a + b)\n",
    "print(a + c)"
   ]
  },
  {
   "cell_type": "code",
   "execution_count": 55,
   "id": "e3738997-ff56-474f-9a2d-6488d66244ad",
   "metadata": {},
   "outputs": [
    {
     "data": {
      "text/plain": [
       "range(1, 10, 3)"
      ]
     },
     "execution_count": 55,
     "metadata": {},
     "output_type": "execute_result"
    }
   ],
   "source": [
    "range(1, 10, 3)"
   ]
  },
  {
   "cell_type": "code",
   "execution_count": 59,
   "id": "f83caf20-2fdf-4057-958d-0b67b3f5f67e",
   "metadata": {},
   "outputs": [],
   "source": [
    "a = (range(1,10,3))"
   ]
  },
  {
   "cell_type": "code",
   "execution_count": 62,
   "id": "11b8df4a-89e7-4506-9248-87e70001e68d",
   "metadata": {},
   "outputs": [
    {
     "name": "stdout",
     "output_type": "stream",
     "text": [
      "[1, 4, 7]\n"
     ]
    }
   ],
   "source": [
    "print(list(a))"
   ]
  },
  {
   "cell_type": "code",
   "execution_count": 63,
   "id": "fd47f33f-3b7f-4a42-b3a8-55cd493f2df5",
   "metadata": {},
   "outputs": [],
   "source": [
    "my_list = ['a', 'b', 'c', 'd', 'e']\n",
    "my_tuple = (6, 7, 8, 9, 10)\n",
    "my_range = range(5)\n",
    "my_string = '가나다라마'"
   ]
  },
  {
   "cell_type": "code",
   "execution_count": 64,
   "id": "9293ae0c-fe44-4211-90f2-9ca6c464d1ae",
   "metadata": {},
   "outputs": [
    {
     "name": "stdout",
     "output_type": "stream",
     "text": [
      "['c', 'd']\n",
      "(8, 9)\n",
      "range(2, 4)\n",
      "다라\n"
     ]
    }
   ],
   "source": [
    "print(my_list[2:4])\n",
    "print(my_tuple[2:4])\n",
    "print(my_range[2:4])\n",
    "print(my_string[2:4])"
   ]
  },
  {
   "cell_type": "code",
   "execution_count": null,
   "id": "b37e3a04-79d4-4a57-ad92-94ecbeab1cd4",
   "metadata": {},
   "outputs": [],
   "source": [
    "| 합집합. 같은거 뺌. 연속성 아니고, 같은거 같은 취급."
   ]
  }
 ],
 "metadata": {
  "kernelspec": {
   "display_name": "Python 3 (ipykernel)",
   "language": "python",
   "name": "python3"
  },
  "language_info": {
   "codemirror_mode": {
    "name": "ipython",
    "version": 3
   },
   "file_extension": ".py",
   "mimetype": "text/x-python",
   "name": "python",
   "nbconvert_exporter": "python",
   "pygments_lexer": "ipython3",
   "version": "3.13.2"
  }
 },
 "nbformat": 4,
 "nbformat_minor": 5
}

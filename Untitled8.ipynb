{
 "cells": [
  {
   "cell_type": "code",
   "execution_count": 1,
   "id": "02001dcf-1edb-4cf8-b123-80a06ebd7d07",
   "metadata": {},
   "outputs": [],
   "source": [
    "import requests\n",
    "\n",
    "class URLMaker:\n",
    "    \"\"\"\n",
    "    영화진흥위원회 API URL 생성 클래스\n",
    "    \"\"\"\n",
    "    \n",
    "    url = 'http://www.kobis.or.kr/kobisopenapi/webservice/rest'\n",
    "\n",
    "    def __init__(self, key):\n",
    "        \"\"\"\n",
    "        API key 초기화\n",
    "        \"\"\"\n",
    "        self.key = key\n",
    "\n",
    "    def daily_boxoffice_url(self, targetDt, itemPerPage=10, multiMovieYn='', repNationCd='', wideAreaCd=''):\n",
    "        \"\"\"\n",
    "        일별 박스오피스 URL 생성\n",
    "        \"\"\"\n",
    "        return f'{self.url}/boxoffice/searchDailyBoxOfficeList.json?key={self.key}&targetDt={targetDt}&itemPerPage={itemPerPage}&multiMovieYn={multiMovieYn}&repNationCd={repNationCd}&wideAreaCd={wideAreaCd}'\n",
    "\n",
    "    def weekly_boxoffice_url(self, targetDt, weekGb='0', itemPerPage=10, multiMovieYn='', repNationCd='', wideAreaCd=''):\n",
    "        \"\"\"\n",
    "        주간/주말 박스오피스 URL 생성\n",
    "        weekGb: 0(주간), 1(주말), 2(주중)\n",
    "        \"\"\"\n",
    "        return f'{self.url}/boxoffice/searchWeeklyBoxOfficeList.json?key={self.key}&targetDt={targetDt}&weekGb={weekGb}&itemPerPage={itemPerPage}&multiMovieYn={multiMovieYn}&repNationCd={repNationCd}&wideAreaCd={wideAreaCd}'\n",
    "\n",
    "    def movie_list_url(self, curPage=1, itemPerPage=10, movieNm='', directorNm='', openStartDt='', openEndDt='', \n",
    "                      prdtStartYear='', prdtEndYear='', repNationCd='', movieTypeCd=''):\n",
    "        \"\"\"\n",
    "        영화목록 URL 생성\n",
    "        \"\"\"\n",
    "        return f'{self.url}/movie/searchMovieList.json?key={self.key}&curPage={curPage}&itemPerPage={itemPerPage}&movieNm={movieNm}&directorNm={directorNm}&openStartDt={openStartDt}&openEndDt={openEndDt}&prdtStartYear={prdtStartYear}&prdtEndYear={prdtEndYear}&repNationCd={repNationCd}&movieTypeCd={movieTypeCd}'\n",
    "\n",
    "    def movie_info_url(self, movieCd):\n",
    "        \"\"\"\n",
    "        영화 상세정보 URL 생성\n",
    "        \"\"\"\n",
    "        return f'{self.url}/movie/searchMovieInfo.json?key={self.key}&movieCd={movieCd}'\n",
    "\n",
    "    def people_list_url(self, curPage=1, itemPerPage=10, peopleNm='', filmoNames=''):\n",
    "        \"\"\"\n",
    "        영화인목록 URL 생성\n",
    "        \"\"\"\n",
    "        return f'{self.url}/people/searchPeopleList.json?key={self.key}&curPage={curPage}&itemPerPage={itemPerPage}&peopleNm={peopleNm}&filmoNames={filmoNames}'\n",
    "\n",
    "    def people_info_url(self, peopleCd):\n",
    "        \"\"\"\n",
    "        영화인 상세정보 URL 생성\n",
    "        \"\"\"\n",
    "        return f'{self.url}/people/searchPeopleInfo.json?key={self.key}&peopleCd={peopleCd}'\n",
    "\n",
    "\n",
    "    "
   ]
  },
  {
   "cell_type": "code",
   "execution_count": 2,
   "id": "6ac95f4b-3fbb-4a87-9ec0-ef64f3f3c961",
   "metadata": {},
   "outputs": [],
   "source": [
    "import requests\n",
    "\n",
    "def get_movie_detail(movie_cd):\n",
    "    movie_info = url_maker.movie_info_url(movie_cd)\n",
    "    r = requests.get(movie_info).json()\n",
    "    print(r)\n"
   ]
  },
  {
   "cell_type": "code",
   "execution_count": null,
   "id": "b47fe3e4-2f33-4c77-bc77-8a81212a8e18",
   "metadata": {},
   "outputs": [],
   "source": []
  },
  {
   "cell_type": "code",
   "execution_count": null,
   "id": "635fbb74-17bf-4df2-bd2e-aef0fb947d3d",
   "metadata": {},
   "outputs": [],
   "source": []
  }
 ],
 "metadata": {
  "kernelspec": {
   "display_name": "Python 3 (ipykernel)",
   "language": "python",
   "name": "python3"
  },
  "language_info": {
   "codemirror_mode": {
    "name": "ipython",
    "version": 3
   },
   "file_extension": ".py",
   "mimetype": "text/x-python",
   "name": "python",
   "nbconvert_exporter": "python",
   "pygments_lexer": "ipython3",
   "version": "3.13.2"
  }
 },
 "nbformat": 4,
 "nbformat_minor": 5
}

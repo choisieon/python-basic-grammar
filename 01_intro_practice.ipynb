{
 "cells": [
  {
   "cell_type": "code",
   "execution_count": 1,
   "id": "67b1b07b-e349-425c-8ce7-d596eccc937b",
   "metadata": {},
   "outputs": [],
   "source": [
    "a = 1000"
   ]
  },
  {
   "cell_type": "code",
   "execution_count": 2,
   "id": "f1c54c34-aaa2-489b-a5f2-3dad772cff6c",
   "metadata": {},
   "outputs": [
    {
     "data": {
      "text/plain": [
       "1000"
      ]
     },
     "execution_count": 2,
     "metadata": {},
     "output_type": "execute_result"
    }
   ],
   "source": [
    "a"
   ]
  },
  {
   "cell_type": "code",
   "execution_count": 5,
   "id": "02998bc1-c938-4d69-a12b-ca613d46b531",
   "metadata": {},
   "outputs": [
    {
     "data": {
      "text/plain": [
       "int"
      ]
     },
     "execution_count": 5,
     "metadata": {},
     "output_type": "execute_result"
    }
   ],
   "source": [
    "(type(a))"
   ]
  },
  {
   "cell_type": "code",
   "execution_count": 6,
   "id": "0197a0e1-4c31-4615-a76c-833ea6cac430",
   "metadata": {},
   "outputs": [],
   "source": [
    "b = 1.1"
   ]
  },
  {
   "cell_type": "code",
   "execution_count": 7,
   "id": "21d171b5-f06d-4bab-a143-838e8d67014c",
   "metadata": {},
   "outputs": [
    {
     "data": {
      "text/plain": [
       "float"
      ]
     },
     "execution_count": 7,
     "metadata": {},
     "output_type": "execute_result"
    }
   ],
   "source": [
    "type(b)"
   ]
  },
  {
   "cell_type": "code",
   "execution_count": 8,
   "id": "34580791-af81-491e-924a-e0b04d57d4cd",
   "metadata": {},
   "outputs": [],
   "source": [
    "c = 1 + 1j"
   ]
  },
  {
   "cell_type": "code",
   "execution_count": 10,
   "id": "fe8b106f-9b8c-4d62-a4e5-0b12ea6d1c5e",
   "metadata": {},
   "outputs": [
    {
     "data": {
      "text/plain": [
       "(1+1j)"
      ]
     },
     "execution_count": 10,
     "metadata": {},
     "output_type": "execute_result"
    }
   ],
   "source": [
    "c"
   ]
  },
  {
   "cell_type": "code",
   "execution_count": 11,
   "id": "6c9d6d13-0660-4541-8d57-cdc24ef35fec",
   "metadata": {},
   "outputs": [
    {
     "data": {
      "text/plain": [
       "complex"
      ]
     },
     "execution_count": 11,
     "metadata": {},
     "output_type": "execute_result"
    }
   ],
   "source": [
    "type(c)"
   ]
  },
  {
   "cell_type": "code",
   "execution_count": 12,
   "id": "8f15f7d6-17e4-4fc0-8ef8-ed517a76246a",
   "metadata": {},
   "outputs": [],
   "source": [
    "a = 1"
   ]
  },
  {
   "cell_type": "code",
   "execution_count": 13,
   "id": "66efa5d9-1d1e-4ac0-8e3f-1ec4b19a0eb6",
   "metadata": {},
   "outputs": [
    {
     "data": {
      "text/plain": [
       "1"
      ]
     },
     "execution_count": 13,
     "metadata": {},
     "output_type": "execute_result"
    }
   ],
   "source": [
    "a"
   ]
  },
  {
   "cell_type": "code",
   "execution_count": 14,
   "id": "c989c6cf-c14b-4d0b-a27a-fb0d08e8f9b1",
   "metadata": {},
   "outputs": [],
   "source": [
    "a = True"
   ]
  },
  {
   "cell_type": "code",
   "execution_count": 15,
   "id": "724924dc-12d5-45a9-8fff-5298716d1b19",
   "metadata": {},
   "outputs": [
    {
     "data": {
      "text/plain": [
       "True"
      ]
     },
     "execution_count": 15,
     "metadata": {},
     "output_type": "execute_result"
    }
   ],
   "source": [
    "a"
   ]
  },
  {
   "cell_type": "code",
   "execution_count": 16,
   "id": "8c54db6e-d733-43ad-a4e9-3ca72b1b9f62",
   "metadata": {},
   "outputs": [
    {
     "ename": "NameError",
     "evalue": "name 'Type' is not defined",
     "output_type": "error",
     "traceback": [
      "\u001b[0;31m---------------------------------------------------------------------------\u001b[0m",
      "\u001b[0;31mNameError\u001b[0m                                 Traceback (most recent call last)",
      "Cell \u001b[0;32mIn[16], line 1\u001b[0m\n\u001b[0;32m----> 1\u001b[0m \u001b[43mType\u001b[49m(a)\n",
      "\u001b[0;31mNameError\u001b[0m: name 'Type' is not defined"
     ]
    }
   ],
   "source": [
    "Type(a)"
   ]
  },
  {
   "cell_type": "code",
   "execution_count": 17,
   "id": "1964dc4c-0988-4077-87de-90ebf7074486",
   "metadata": {},
   "outputs": [
    {
     "data": {
      "text/plain": [
       "bool"
      ]
     },
     "execution_count": 17,
     "metadata": {},
     "output_type": "execute_result"
    }
   ],
   "source": [
    "type(a)"
   ]
  },
  {
   "cell_type": "code",
   "execution_count": 18,
   "id": "e508e89e-89bf-4ace-bf3a-1010a7f9e806",
   "metadata": {},
   "outputs": [
    {
     "name": "stdout",
     "output_type": "stream",
     "text": [
      "hello my name is 'sieon'\n"
     ]
    }
   ],
   "source": [
    "print(\"hello my name is 'sieon'\")"
   ]
  },
  {
   "cell_type": "code",
   "execution_count": 24,
   "id": "c4025ed9-c754-4ed0-8a11-216c6fb68773",
   "metadata": {},
   "outputs": [],
   "source": [
    "a = '천재'\n",
    "b = '나는 뭐야? {a}'"
   ]
  },
  {
   "cell_type": "code",
   "execution_count": 27,
   "id": "16c9b504-ebb5-4341-b2f8-1d1262eb8f3c",
   "metadata": {},
   "outputs": [
    {
     "name": "stdout",
     "output_type": "stream",
     "text": [
      "나는 뭐야? 천재\n"
     ]
    }
   ],
   "source": [
    "print(f'나는 뭐야? {a}')"
   ]
  },
  {
   "cell_type": "code",
   "execution_count": 28,
   "id": "93208b9c-0e19-460b-ae40-e0c0bccd494f",
   "metadata": {},
   "outputs": [],
   "source": [
    "a = 35\n",
    "b = 5"
   ]
  },
  {
   "cell_type": "code",
   "execution_count": 30,
   "id": "5faee6d4-d3ac-4157-b05b-39b27d16a780",
   "metadata": {},
   "outputs": [
    {
     "name": "stdout",
     "output_type": "stream",
     "text": [
      "40\n",
      "30\n",
      "175\n",
      "7.0\n"
     ]
    }
   ],
   "source": [
    "print(a + b)\n",
    "print(a - b)\n",
    "print(a * b)\n",
    "print(a / b)"
   ]
  },
  {
   "cell_type": "code",
   "execution_count": 31,
   "id": "0718c383-647d-4b06-a2b2-fd63a9f73d72",
   "metadata": {},
   "outputs": [
    {
     "name": "stdout",
     "output_type": "stream",
     "text": [
      "52521875\n",
      "7\n",
      "0\n"
     ]
    }
   ],
   "source": [
    "print(a ** b)\n",
    "print(a // b)\n",
    "print(a % b)"
   ]
  },
  {
   "cell_type": "code",
   "execution_count": 33,
   "id": "4c990272-e775-46bf-ad32-838117fe3929",
   "metadata": {},
   "outputs": [
    {
     "name": "stdout",
     "output_type": "stream",
     "text": [
      "(7, 0)\n"
     ]
    }
   ],
   "source": [
    "result = (divmod(a, b))\n",
    "print(result)"
   ]
  },
  {
   "cell_type": "code",
   "execution_count": 34,
   "id": "b7f37ef2-79e9-426f-bf46-c035c051bbc9",
   "metadata": {},
   "outputs": [],
   "source": [
    "a = 1\n",
    "b = 2"
   ]
  },
  {
   "cell_type": "code",
   "execution_count": 37,
   "id": "877669b5-c6cf-494c-873d-3f0d3bfcc87b",
   "metadata": {},
   "outputs": [
    {
     "name": "stdout",
     "output_type": "stream",
     "text": [
      "False\n",
      "True\n",
      "False\n",
      "True\n"
     ]
    }
   ],
   "source": [
    "print(a > b)\n",
    "print(a < b)\n",
    "print(a >= b)\n",
    "print(a <= b)"
   ]
  },
  {
   "cell_type": "code",
   "execution_count": 38,
   "id": "5cb93718-8ac0-4ef1-964d-9eaa85382af1",
   "metadata": {},
   "outputs": [
    {
     "name": "stdout",
     "output_type": "stream",
     "text": [
      "False\n",
      "True\n"
     ]
    }
   ],
   "source": [
    "print(a == b)\n",
    "print(a != b)"
   ]
  },
  {
   "cell_type": "code",
   "execution_count": 39,
   "id": "9e52dda1-9599-4395-a21b-b1931d3e36b0",
   "metadata": {},
   "outputs": [],
   "source": [
    "# and or not"
   ]
  },
  {
   "cell_type": "code",
   "execution_count": 40,
   "id": "501b6d87-121d-4a89-9869-692e327403e0",
   "metadata": {},
   "outputs": [
    {
     "name": "stdout",
     "output_type": "stream",
     "text": [
      "True\n",
      "False\n",
      "False\n",
      "False\n"
     ]
    }
   ],
   "source": [
    "print(True and True)\n",
    "print(True and False)\n",
    "print(False and True)\n",
    "print(False and False)"
   ]
  },
  {
   "cell_type": "code",
   "execution_count": 41,
   "id": "dc96ed00-91f8-4709-a8f4-4044991b6f43",
   "metadata": {},
   "outputs": [
    {
     "name": "stdout",
     "output_type": "stream",
     "text": [
      "True\n",
      "True\n",
      "True\n",
      "False\n"
     ]
    }
   ],
   "source": [
    "print(True or True)\n",
    "print(True or False)\n",
    "print(False or True)\n",
    "print(False or False)"
   ]
  },
  {
   "cell_type": "code",
   "execution_count": 42,
   "id": "6b59c22d-f51e-4f16-9898-821e31a87f35",
   "metadata": {},
   "outputs": [
    {
     "name": "stdout",
     "output_type": "stream",
     "text": [
      "False\n"
     ]
    }
   ],
   "source": [
    "a = True \n",
    "print(not a)"
   ]
  },
  {
   "cell_type": "code",
   "execution_count": 43,
   "id": "8323bb58-18e7-4f0b-b6e9-48f4604773d8",
   "metadata": {},
   "outputs": [
    {
     "name": "stdout",
     "output_type": "stream",
     "text": [
      "0\n",
      "0\n",
      "1\n",
      "1\n",
      "0\n",
      "3\n"
     ]
    }
   ],
   "source": [
    "print(1 and 0)\n",
    "print(2 and 0)\n",
    "print(1 and 1)\n",
    "\n",
    "print(1 or 0)\n",
    "print(0 or 0)\n",
    "print(0 or 3)"
   ]
  },
  {
   "cell_type": "code",
   "execution_count": 6,
   "id": "c85b6c7f-2cfd-4738-bc61-c86d92d627be",
   "metadata": {},
   "outputs": [
    {
     "name": "stdin",
     "output_type": "stream",
     "text": [
      " 12/25\n"
     ]
    },
    {
     "name": "stdout",
     "output_type": "stream",
     "text": [
      "12/25\n",
      "merry christmas!\n"
     ]
    }
   ],
   "source": [
    "my_sting = input()\n",
    "print(my_sting)\n",
    "\n",
    "if my_sting == '12/25':\n",
    "    print('merry christmas!')"
   ]
  },
  {
   "cell_type": "code",
   "execution_count": null,
   "id": "17c671df-001c-449f-b28f-8973579da923",
   "metadata": {},
   "outputs": [],
   "source": []
  }
 ],
 "metadata": {
  "kernelspec": {
   "display_name": "Python 3 (ipykernel)",
   "language": "python",
   "name": "python3"
  },
  "language_info": {
   "codemirror_mode": {
    "name": "ipython",
    "version": 3
   },
   "file_extension": ".py",
   "mimetype": "text/x-python",
   "name": "python",
   "nbconvert_exporter": "python",
   "pygments_lexer": "ipython3",
   "version": "3.13.2"
  }
 },
 "nbformat": 4,
 "nbformat_minor": 5
}

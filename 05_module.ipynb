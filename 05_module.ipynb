{
 "cells": [
  {
   "cell_type": "markdown",
   "id": "0e96f2ec-ef65-492c-992f-47aca5d6a3c0",
   "metadata": {},
   "source": [
    "### 모듈"
   ]
  },
  {
   "cell_type": "code",
   "execution_count": 2,
   "id": "e0ff1772-258f-4bb6-ab9d-978834f1348a",
   "metadata": {},
   "outputs": [],
   "source": [
    "import fact"
   ]
  },
  {
   "cell_type": "code",
   "execution_count": 3,
   "id": "bd4a7445-aa32-492a-be30-7bc30752bc61",
   "metadata": {},
   "outputs": [
    {
     "name": "stdout",
     "output_type": "stream",
     "text": [
      "<module 'fact' from '/Users/choesieon/Desktop/DAMF2/python/fact.py'>\n"
     ]
    }
   ],
   "source": [
    "print(fact)"
   ]
  },
  {
   "cell_type": "code",
   "execution_count": 4,
   "id": "66d2cb9c-189c-4e72-9328-4937eb2b4191",
   "metadata": {},
   "outputs": [
    {
     "data": {
      "text/plain": [
       "120"
      ]
     },
     "execution_count": 4,
     "metadata": {},
     "output_type": "execute_result"
    }
   ],
   "source": [
    "fact.factorial(5)"
   ]
  },
  {
   "cell_type": "code",
   "execution_count": 5,
   "id": "9edd1631-af91-4455-b73a-b95cef2fb116",
   "metadata": {},
   "outputs": [
    {
     "data": {
      "text/plain": [
       "3"
      ]
     },
     "execution_count": 5,
     "metadata": {},
     "output_type": "execute_result"
    }
   ],
   "source": [
    "fact.my_max(2, 3)"
   ]
  },
  {
   "cell_type": "markdown",
   "id": "4f04ff68-9a3e-449f-ba9f-22cc5c6122fd",
   "metadata": {},
   "source": [
    "# 패키지\n",
    "\n",
    "```\n",
    "myPackage/\n",
    "    __init__.py\n",
    "    math/\n",
    "        __init__.py\n",
    "\n",
    "- 패키지 안에 __init__.py 파일이 존재해야 패키지로 인식"
   ]
  },
  {
   "cell_type": "code",
   "execution_count": 12,
   "id": "8fbfb4be-130d-4a44-b052-242fc7d76569",
   "metadata": {},
   "outputs": [],
   "source": [
    "import myPackage"
   ]
  },
  {
   "cell_type": "code",
   "execution_count": 13,
   "id": "6aac9cba-5745-456f-adc1-1dc08d7b71e1",
   "metadata": {},
   "outputs": [
    {
     "name": "stdout",
     "output_type": "stream",
     "text": [
      "<module 'myPackage' from '/Users/choesieon/Desktop/DAMF2/python/myPackage/__init__.py'>\n"
     ]
    }
   ],
   "source": [
    "print(myPackage)"
   ]
  },
  {
   "cell_type": "code",
   "execution_count": 14,
   "id": "7406af47-62a4-47f7-9fc0-5dee55f8284e",
   "metadata": {},
   "outputs": [],
   "source": [
    "from myPackage.math.fomula import my_max"
   ]
  },
  {
   "cell_type": "code",
   "execution_count": 15,
   "id": "2cf4c7b0-1acf-4894-853e-5167c2a02b93",
   "metadata": {},
   "outputs": [
    {
     "data": {
      "text/plain": [
       "4"
      ]
     },
     "execution_count": 15,
     "metadata": {},
     "output_type": "execute_result"
    }
   ],
   "source": [
    "my_max(3,4)"
   ]
  },
  {
   "cell_type": "code",
   "execution_count": 16,
   "id": "a39cf632-a0ce-4612-be02-4801619785dc",
   "metadata": {},
   "outputs": [
    {
     "name": "stdout",
     "output_type": "stream",
     "text": [
      "3.14\n"
     ]
    }
   ],
   "source": [
    "from myPackage.math.fomula import *\n",
    "print(pi)"
   ]
  },
  {
   "cell_type": "code",
   "execution_count": 17,
   "id": "b5c55ca0-0730-4d57-a9fa-5c6f2e5236ee",
   "metadata": {},
   "outputs": [
    {
     "name": "stdout",
     "output_type": "stream",
     "text": [
      "1234\n",
      "<module 'myPackage.math.fomula' from '/Users/choesieon/Desktop/DAMF2/python/myPackage/math/fomula.py'>\n"
     ]
    }
   ],
   "source": [
    "fomula = 1234\n",
    "from myPackage.math import fomula as f\n",
    "print(fomula)\n",
    "print(f)"
   ]
  },
  {
   "cell_type": "markdown",
   "id": "b0ea3ce9-37b8-4af8-8516-664e42bc656c",
   "metadata": {},
   "source": [
    "## 파이썬 내장 패키지"
   ]
  },
  {
   "cell_type": "markdown",
   "id": "fd91ae10-92ba-48d6-8dd8-4c87649c5f44",
   "metadata": {},
   "source": [
    "## math"
   ]
  },
  {
   "cell_type": "code",
   "execution_count": 18,
   "id": "45a124b4-99be-46bf-a9a9-a32dfa136bf5",
   "metadata": {},
   "outputs": [],
   "source": [
    "import math"
   ]
  },
  {
   "cell_type": "code",
   "execution_count": 19,
   "id": "2e0c9706-f16f-4ee4-a77d-7e94dfb31de1",
   "metadata": {},
   "outputs": [
    {
     "data": {
      "text/plain": [
       "3.141592653589793"
      ]
     },
     "execution_count": 19,
     "metadata": {},
     "output_type": "execute_result"
    }
   ],
   "source": [
    "math.pi"
   ]
  },
  {
   "cell_type": "code",
   "execution_count": 20,
   "id": "a8a6bbcb-4cd2-4ae4-b05b-884c2a7a780a",
   "metadata": {},
   "outputs": [
    {
     "data": {
      "text/plain": [
       "2.718281828459045"
      ]
     },
     "execution_count": 20,
     "metadata": {},
     "output_type": "execute_result"
    }
   ],
   "source": [
    "math.e"
   ]
  },
  {
   "cell_type": "code",
   "execution_count": 21,
   "id": "5a466077-76af-4407-b174-02f8dfab4080",
   "metadata": {},
   "outputs": [
    {
     "data": {
      "text/plain": [
       "3"
      ]
     },
     "execution_count": 21,
     "metadata": {},
     "output_type": "execute_result"
    }
   ],
   "source": [
    "math.ceil(math.e)"
   ]
  },
  {
   "cell_type": "code",
   "execution_count": 22,
   "id": "cb4d1b97-5be2-4cd6-8db0-7f91725ce014",
   "metadata": {},
   "outputs": [
    {
     "data": {
      "text/plain": [
       "2"
      ]
     },
     "execution_count": 22,
     "metadata": {},
     "output_type": "execute_result"
    }
   ],
   "source": [
    "math.floor(math.e)"
   ]
  },
  {
   "cell_type": "code",
   "execution_count": 23,
   "id": "f3d3ccbc-599a-422c-81a6-b5bd86fe16f3",
   "metadata": {},
   "outputs": [
    {
     "data": {
      "text/plain": [
       "3.0"
      ]
     },
     "execution_count": 23,
     "metadata": {},
     "output_type": "execute_result"
    }
   ],
   "source": [
    "math.sqrt(9)"
   ]
  },
  {
   "cell_type": "code",
   "execution_count": 24,
   "id": "3b5b886a-a5c9-428f-b667-3c60ec873a98",
   "metadata": {},
   "outputs": [
    {
     "data": {
      "text/plain": [
       "3628800"
      ]
     },
     "execution_count": 24,
     "metadata": {},
     "output_type": "execute_result"
    }
   ],
   "source": [
    "math.factorial(10)"
   ]
  },
  {
   "cell_type": "code",
   "execution_count": 25,
   "id": "a2fae986-3804-425b-8d26-7cf41a9d0ed3",
   "metadata": {},
   "outputs": [],
   "source": [
    "from math import sqrt, factorial"
   ]
  },
  {
   "cell_type": "code",
   "execution_count": 26,
   "id": "639d6b94-023d-480a-8741-3daff5432465",
   "metadata": {},
   "outputs": [
    {
     "data": {
      "text/plain": [
       "5.0"
      ]
     },
     "execution_count": 26,
     "metadata": {},
     "output_type": "execute_result"
    }
   ],
   "source": [
    "sqrt(25)"
   ]
  },
  {
   "cell_type": "code",
   "execution_count": 27,
   "id": "b5918c58-1962-4ac7-83ea-0fefe4231786",
   "metadata": {},
   "outputs": [
    {
     "data": {
      "text/plain": [
       "120"
      ]
     },
     "execution_count": 27,
     "metadata": {},
     "output_type": "execute_result"
    }
   ],
   "source": [
    "factorial(5)"
   ]
  },
  {
   "cell_type": "markdown",
   "id": "bbec76d3-69e2-4808-9743-e14c5814db99",
   "metadata": {},
   "source": [
    "## random"
   ]
  },
  {
   "cell_type": "code",
   "execution_count": 28,
   "id": "651f3553-9b00-4954-822b-cb99e7c2142f",
   "metadata": {},
   "outputs": [],
   "source": [
    "import random"
   ]
  },
  {
   "cell_type": "code",
   "execution_count": 174,
   "id": "d4ea20ec-b255-4bb1-bbd1-67e0060d79ba",
   "metadata": {},
   "outputs": [
    {
     "data": {
      "text/plain": [
       "0.5303022467680292"
      ]
     },
     "execution_count": 174,
     "metadata": {},
     "output_type": "execute_result"
    }
   ],
   "source": [
    "random.random()"
   ]
  },
  {
   "cell_type": "code",
   "execution_count": 175,
   "id": "388fdebd-3fc7-4216-9e47-e3b820034e31",
   "metadata": {},
   "outputs": [
    {
     "data": {
      "text/plain": [
       "5"
      ]
     },
     "execution_count": 175,
     "metadata": {},
     "output_type": "execute_result"
    }
   ],
   "source": [
    "random.randint(1,10)"
   ]
  },
  {
   "cell_type": "code",
   "execution_count": 178,
   "id": "a902fcc0-3d57-4a30-b479-1ffa863d7f82",
   "metadata": {},
   "outputs": [
    {
     "data": {
      "text/plain": [
       "0.052363598850944326"
      ]
     },
     "execution_count": 178,
     "metadata": {},
     "output_type": "execute_result"
    }
   ],
   "source": [
    "random.seed(123)\n",
    "random.random()"
   ]
  },
  {
   "cell_type": "code",
   "execution_count": 182,
   "id": "1a97d299-e2c8-46af-bdc1-c4c87589d479",
   "metadata": {},
   "outputs": [],
   "source": [
    "numbers = [1,2,3,4,5]"
   ]
  },
  {
   "cell_type": "code",
   "execution_count": 245,
   "id": "23db5083-cc70-4834-9821-b610f244eb21",
   "metadata": {},
   "outputs": [
    {
     "name": "stdout",
     "output_type": "stream",
     "text": [
      "[3, 2, 5, 4, 1]\n"
     ]
    }
   ],
   "source": [
    "random.shuffle(numbers)\n",
    "print(numbers)"
   ]
  },
  {
   "cell_type": "code",
   "execution_count": 246,
   "id": "aa108069-fb84-4049-80c1-f71bd29ff15a",
   "metadata": {},
   "outputs": [
    {
     "name": "stdout",
     "output_type": "stream",
     "text": [
      "2\n"
     ]
    }
   ],
   "source": [
    "print(random.choice(numbers))"
   ]
  },
  {
   "cell_type": "code",
   "execution_count": 247,
   "id": "4ba8cb2d-baf6-4be1-9e50-5761370b106f",
   "metadata": {},
   "outputs": [
    {
     "data": {
      "text/plain": [
       "4"
      ]
     },
     "execution_count": 247,
     "metadata": {},
     "output_type": "execute_result"
    }
   ],
   "source": [
    "random.choice(numbers)"
   ]
  },
  {
   "cell_type": "code",
   "execution_count": 248,
   "id": "4312ae73-aeb7-486d-a498-c67006c65eb5",
   "metadata": {},
   "outputs": [
    {
     "data": {
      "text/plain": [
       "[1, 3]"
      ]
     },
     "execution_count": 248,
     "metadata": {},
     "output_type": "execute_result"
    }
   ],
   "source": [
    "random.sample(numbers, 2)"
   ]
  },
  {
   "cell_type": "code",
   "execution_count": null,
   "id": "d33e1e9a-7de2-4135-823b-d5f3d972518c",
   "metadata": {},
   "outputs": [],
   "source": []
  }
 ],
 "metadata": {
  "kernelspec": {
   "display_name": "Python 3 (ipykernel)",
   "language": "python",
   "name": "python3"
  },
  "language_info": {
   "codemirror_mode": {
    "name": "ipython",
    "version": 3
   },
   "file_extension": ".py",
   "mimetype": "text/x-python",
   "name": "python",
   "nbconvert_exporter": "python",
   "pygments_lexer": "ipython3",
   "version": "3.13.2"
  }
 },
 "nbformat": 4,
 "nbformat_minor": 5
}

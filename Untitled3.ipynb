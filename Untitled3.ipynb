{
 "cells": [
  {
   "cell_type": "code",
   "execution_count": 5,
   "id": "81884f5d-1f01-4b93-b6d7-41f0407837ef",
   "metadata": {},
   "outputs": [
    {
     "name": "stdout",
     "output_type": "stream",
     "text": [
      "배틀 시작!\n",
      "꼬부기이(가) 파이리에게 10의 데미지를 입혔습니다!\n",
      "파이리이(가) 꼬부기에게 10의 데미지를 입혔습니다!\n",
      "꼬부기 - 체력: 40\n",
      "파이리 - 체력: 40\n",
      "----------\n",
      "꼬부기이(가) 파이리에게 5의 데미지를 입혔습니다!\n",
      "파이리이(가) 꼬부기에게 15의 데미지를 입혔습니다!\n",
      "꼬부기 - 체력: 25\n",
      "파이리 - 체력: 35\n",
      "----------\n",
      "꼬부기이(가) 파이리에게 5의 데미지를 입혔습니다!\n",
      "파이리이(가) 꼬부기에게 5의 데미지를 입혔습니다!\n",
      "꼬부기 - 체력: 20\n",
      "파이리 - 체력: 30\n",
      "----------\n",
      "꼬부기이(가) 파이리에게 10의 데미지를 입혔습니다!\n",
      "파이리이(가) 꼬부기에게 10의 데미지를 입혔습니다!\n",
      "꼬부기 - 체력: 10\n",
      "파이리 - 체력: 20\n",
      "----------\n",
      "꼬부기이(가) 파이리에게 10의 데미지를 입혔습니다!\n",
      "파이리이(가) 꼬부기에게 5의 데미지를 입혔습니다!\n",
      "꼬부기 - 체력: 5\n",
      "파이리 - 체력: 10\n",
      "----------\n",
      "꼬부기이(가) 파이리에게 5의 데미지를 입혔습니다!\n",
      "파이리이(가) 꼬부기에게 15의 데미지를 입혔습니다!\n",
      "꼬부기가 쓰러졌습니다! 파이리 승리!\n"
     ]
    }
   ],
   "source": [
    "import random\n",
    "\n",
    "# 포켓몬 클래스 정의\n",
    "class Pokemon:\n",
    "    def __init__(self, name, level=5):\n",
    "        self.name = name            # 포켓몬 이름\n",
    "        self.level = level          # 포켓몬 레벨 (기본값 5)\n",
    "        self.hp = level * 10        # 체력은 레벨에 따라 결정 (예: 레벨 5면 체력 50)\n",
    "\n",
    "    def attack(self, opponent):\n",
    "        # 간단한 공격: 데미지는 레벨과 1부터 3 사이의 랜덤 숫자를 곱해 결정합니다.\n",
    "        damage = self.level * random.randint(1, 3)\n",
    "        print(f\"{self.name}이(가) {opponent.name}에게 {damage}의 데미지를 입혔습니다!\")\n",
    "        opponent.hp -= damage\n",
    "\n",
    "    def is_knocked_out(self):\n",
    "        # 체력이 0 이하이면 쓰러진 것으로 간주\n",
    "        return self.hp <= 0\n",
    "\n",
    "    def status(self):\n",
    "        # 현재 상태(이름과 체력)를 출력하는 메서드\n",
    "        print(f\"{self.name} - 체력: {self.hp}\")\n",
    "\n",
    "# 포켓몬 객체 생성 (타입 정보를 제거)\n",
    "kobugi = Pokemon(\"꼬부기\", level=5)\n",
    "pairi = Pokemon(\"파이리\", level=5)\n",
    "\n",
    "# 배틀 시뮬레이션 시작\n",
    "print(\"배틀 시작!\")\n",
    "while True:\n",
    "    # 꼬부기가 파이리를 공격\n",
    "    kobugi.attack(pairi)\n",
    "    if pairi.is_knocked_out():\n",
    "        print(f\"{pairi.name}가 쓰러졌습니다! {kobugi.name} 승리!\")\n",
    "        break\n",
    "\n",
    "    # 파이리가 꼬부기를 공격\n",
    "    pairi.attack(kobugi)\n",
    "    if kobugi.is_knocked_out():\n",
    "        print(f\"{kobugi.name}가 쓰러졌습니다! {pairi.name} 승리!\")\n",
    "        break\n",
    "\n",
    "    # 각 포켓몬의 현재 체력을 출력\n",
    "    kobugi.status()\n",
    "    pairi.status()\n",
    "    print(\"----------\")"
   ]
  },
  {
   "cell_type": "code",
   "execution_count": null,
   "id": "171b1c34-013f-42a7-855e-fd8ce50bd9c3",
   "metadata": {},
   "outputs": [],
   "source": []
  }
 ],
 "metadata": {
  "kernelspec": {
   "display_name": "Python 3 (ipykernel)",
   "language": "python",
   "name": "python3"
  },
  "language_info": {
   "codemirror_mode": {
    "name": "ipython",
    "version": 3
   },
   "file_extension": ".py",
   "mimetype": "text/x-python",
   "name": "python",
   "nbconvert_exporter": "python",
   "pygments_lexer": "ipython3",
   "version": "3.13.2"
  }
 },
 "nbformat": 4,
 "nbformat_minor": 5
}

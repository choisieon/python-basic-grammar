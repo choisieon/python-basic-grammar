{
 "cells": [
  {
   "cell_type": "code",
   "execution_count": 224,
   "id": "83060175-e041-4521-9e48-9c231ca0f4c5",
   "metadata": {
    "editable": true,
    "slideshow": {
     "slide_type": ""
    },
    "tags": []
   },
   "outputs": [
    {
     "name": "stdout",
     "output_type": "stream",
     "text": [
      "[4, 5, 13, 26, 27, 42]\n",
      "[3, 9, 27, 28, 38, 39]\n",
      "꽝\n",
      "[1, 7, 9, 12, 28, 39]\n",
      "[3, 9, 27, 28, 38, 39]\n",
      "5\n",
      "[7, 19, 29, 34, 41, 42]\n",
      "[3, 9, 27, 28, 38, 39]\n",
      "꽝\n",
      "[11, 14, 16, 32, 33, 37]\n",
      "[3, 9, 27, 28, 38, 39]\n",
      "꽝\n",
      "[1, 14, 23, 31, 40, 41]\n",
      "[3, 9, 27, 28, 38, 39]\n",
      "꽝\n"
     ]
    }
   ],
   "source": [
    "import random\n",
    "import requests\n",
    "lotto_url = 'https://www.dhlottery.co.kr/common.do'\n",
    "payload = {\n",
    "    'method': 'getLottoNumber',\n",
    "    'drwNo': 1159\n",
    "}\n",
    "r = requests.get(lotto_url, params = payload)\n",
    "lotto_dict = r.json()\n",
    "for i in range(5):\n",
    "    lotto_numbers = random.sample(range(1, 46), 6)  \n",
    "    lotto_numbers.sort() \n",
    "    result = []\n",
    "    for i in range(1, 7):\n",
    "        result.append(lotto_dict[f'drwtNo{i}'])\n",
    "    \n",
    "    rank = 0\n",
    "    print(lotto_numbers)\n",
    "    print(result)\n",
    "    \n",
    "    for num in lotto_numbers: \n",
    "        if num in result:\n",
    "            rank += 1\n",
    "    if rank == 6:\n",
    "        print(\"1등\")\n",
    "    elif rank == 5:\n",
    "        print('3')\n",
    "    elif rank == 4:\n",
    "        print('4')\n",
    "    elif rank == 3:\n",
    "        print('5')\n",
    "    else:\n",
    "        print('꽝')\n",
    "\n",
    "\n",
    "\n",
    "\n"
   ]
  },
  {
   "cell_type": "code",
   "execution_count": null,
   "id": "f21f5d45-dcdf-4b8b-917d-a41893de954c",
   "metadata": {},
   "outputs": [],
   "source": []
  },
  {
   "cell_type": "code",
   "execution_count": null,
   "id": "563f7b1c-d33d-4d99-83e8-0c1679c4bd42",
   "metadata": {},
   "outputs": [],
   "source": []
  },
  {
   "cell_type": "code",
   "execution_count": null,
   "id": "1428992b-b085-42e4-bd56-c958fb7d4215",
   "metadata": {},
   "outputs": [],
   "source": []
  }
 ],
 "metadata": {
  "kernelspec": {
   "display_name": "Python 3 (ipykernel)",
   "language": "python",
   "name": "python3"
  },
  "language_info": {
   "codemirror_mode": {
    "name": "ipython",
    "version": 3
   },
   "file_extension": ".py",
   "mimetype": "text/x-python",
   "name": "python",
   "nbconvert_exporter": "python",
   "pygments_lexer": "ipython3",
   "version": "3.13.2"
  }
 },
 "nbformat": 4,
 "nbformat_minor": 5
}

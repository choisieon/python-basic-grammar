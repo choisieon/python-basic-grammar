{
 "cells": [
  {
   "cell_type": "markdown",
   "id": "b03fae46-5495-4d82-94fd-60d7563762c1",
   "metadata": {
    "editable": true,
    "slideshow": {
     "slide_type": ""
    },
    "tags": []
   },
   "source": [
    "### 제어문"
   ]
  },
  {
   "cell_type": "markdown",
   "id": "412e259e-4fbf-4bb6-a10d-42ee619b31db",
   "metadata": {},
   "source": [
    "### 조건문 (if문)\n",
    "\n",
    "1. if문은 반드시 참/거짓을 판단할 수 있는 `조건식`과 함께 사용한다.\n",
    "   - `if <조건식>:`\n",
    "2. `<조건식>` 참인 경우 : `:`이후의 문장을 실행\n",
    "3. `<조건식>` 거짓인 경우 `else:` 이후의 문장을 실행\n"
   ]
  },
  {
   "cell_type": "code",
   "execution_count": null,
   "id": "3b71ce08-49c1-4746-90a6-3470c66240a2",
   "metadata": {},
   "outputs": [],
   "source": [
    "my_string ="
   ]
  },
  {
   "cell_type": "code",
   "execution_count": null,
   "id": "bb841ce9-972e-428b-a8ab-06999f863cd7",
   "metadata": {},
   "outputs": [],
   "source": []
  }
 ],
 "metadata": {
  "kernelspec": {
   "display_name": "Python 3 (ipykernel)",
   "language": "python",
   "name": "python3"
  },
  "language_info": {
   "codemirror_mode": {
    "name": "ipython",
    "version": 3
   },
   "file_extension": ".py",
   "mimetype": "text/x-python",
   "name": "python",
   "nbconvert_exporter": "python",
   "pygments_lexer": "ipython3",
   "version": "3.13.2"
  }
 },
 "nbformat": 4,
 "nbformat_minor": 5
}
